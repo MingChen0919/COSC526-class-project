{
 "cells": [
  {
   "cell_type": "markdown",
   "metadata": {},
   "source": [
    "# Get article id list"
   ]
  },
  {
   "cell_type": "markdown",
   "metadata": {},
   "source": [
    "## Import xml package"
   ]
  },
  {
   "cell_type": "code",
   "execution_count": 70,
   "metadata": {
    "collapsed": false
   },
   "outputs": [],
   "source": [
    "import xml.etree.ElementTree as ET\n",
    "ids_root = ET.parse('../article-ids.xml').getroot()"
   ]
  },
  {
   "cell_type": "markdown",
   "metadata": {},
   "source": [
    "## Write article ids to a file (optional)"
   ]
  },
  {
   "cell_type": "code",
   "execution_count": 99,
   "metadata": {
    "collapsed": true
   },
   "outputs": [],
   "source": [
    "import urllib2\n",
    "retmax = 100 \n",
    "ids_page_url = \"https://eutils.ncbi.nlm.nih.gov/entrez/eutils/esearch.fcgi?db=pubmed&term=bcl2&retmax=\" + str(retmax)\n",
    "ids_xml_page = urllib2.urlopen(ids_page_url).read()\n",
    "\n",
    "\n",
    "ids_root = ET.fromstring(ids_xml_page)\n",
    "with open('article-ids.txt', 'w+') as my_file:\n",
    "    for ids in ids_root.iter('IdList'):\n",
    "        for id in ids.iter('Id'):\n",
    "            my_file.write(id.text.encode('utf-8') + '\\n')"
   ]
  },
  {
   "cell_type": "markdown",
   "metadata": {},
   "source": [
    "## Use article ids to build URLs and extract article content pages"
   ]
  },
  {
   "cell_type": "code",
   "execution_count": 100,
   "metadata": {
    "collapsed": false
   },
   "outputs": [],
   "source": [
    "with open('article-urls.txt', 'w+') as my_file:\n",
    "    for ids in ids_root.iter('IdList'):\n",
    "        for id in ids.iter('Id'):\n",
    "            url = 'https://eutils.ncbi.nlm.nih.gov/entrez/eutils/efetch.fcgi?db=pmc&id=' + id.text.encode('utf-8')\n",
    "            my_file.write(url + '\\n')"
   ]
  },
  {
   "cell_type": "code",
   "execution_count": null,
   "metadata": {
    "collapsed": false
   },
   "outputs": [],
   "source": [
    "\n"
   ]
  },
  {
   "cell_type": "markdown",
   "metadata": {},
   "source": [
    "# Get article abstract links from \"Full text links\""
   ]
  },
  {
   "cell_type": "code",
   "execution_count": 101,
   "metadata": {
    "collapsed": false
   },
   "outputs": [],
   "source": [
    "import urllib2\n",
    "from BeautifulSoup import BeautifulSoup\n",
    "\n",
    "abstract_url_base = \"https://www.ncbi.nlm.nih.gov/pubmed/\"\n",
    "my_page = urllib2.urlopen(my_url)\n",
    "soup = BeautifulSoup(my_page)"
   ]
  },
  {
   "cell_type": "code",
   "execution_count": 102,
   "metadata": {
    "collapsed": false
   },
   "outputs": [
    {
     "name": "stdout",
     "output_type": "stream",
     "text": [
      "http://www.medsci.org/v14p0275.htm\n",
      "http://www.futuremedicine.com/doi/abs/10.2217/imt-2017-0005?url_ver=Z39.88-2003&rfr_id=ori:rid:crossref.org&rfr_dat=cr_pub%3dpubmed\n",
      "https://www.ncbi.nlm.nih.gov/pmc/articles/pmid/28356992/\n",
      "https://www.ncbi.nlm.nih.gov/pmc/articles/pmid/28356875/\n",
      "https://dx.doi.org/10.2147/DDDT.S129913\n",
      "http://www.bloodjournal.org/cgi/pmidlookup?view=long&pmid=28351934\n",
      "https://dx.doi.org/10.1177/1010428317695027\n",
      "http://dx.plos.org/10.1371/journal.pone.0174145\n",
      "http://www.spandidos-publications.com/10.3892/mmr.2017.6401\n",
      "http://www.spandidos-publications.com/10.3892/ijo.2017.3902\n",
      "https://dx.doi.org/10.1177/1010428317695016\n",
      "https://dx.doi.org/10.1007/s10549-017-4202-z\n",
      "https://respiratory-research.biomedcentral.com/articles/10.1186/s12931-017-0536-7\n",
      "http://www.impactaging.com/full/101201\n",
      "https://academic.oup.com/neuro-oncology/article-lookup/doi/10.1093/neuonc/now300\n",
      "https://academic.oup.com/jnen/article-lookup/doi/10.1093/jnen/nlx008\n",
      "http://www.spandidos-publications.com/10.3892/mmr.2017.6385\n",
      "https://dx.doi.org/10.1155/2017/3708048\n",
      "http://dx.plos.org/10.1371/journal.pone.0174295\n",
      "http://www.mdpi.com/resolver?pii=ijms18040687\n",
      "http://jvi.asm.org/cgi/pmidlookup?view=long&pmid=28331083\n",
      "https://academic.oup.com/annonc/article-lookup/doi/10.1093/annonc/mdx022\n",
      "https://linkinghub.elsevier.com/retrieve/pii/S0003-9969(17)30007-9\n",
      "https://linkinghub.elsevier.com/retrieve/pii/S1092-9134(16)30329-X\n",
      "https://linkinghub.elsevier.com/retrieve/pii/S2162-2531(16)30362-6\n",
      "https://dx.doi.org/10.1007/s11010-017-2945-9\n",
      "https://dx.doi.org/10.1007/s10616-017-0076-5\n",
      "https://dx.doi.org/10.1155/2017/2676254\n",
      "https://dx.doi.org/10.11406/rinketsu.58.143\n",
      "https://linkinghub.elsevier.com/retrieve/pii/S0753-3322(17)30483-3\n",
      "https://dx.doi.org/10.1097/PAS.0000000000000836\n",
      "http://dx.doi.org/10.1038/bcj.2017.25\n",
      "http://dx.plos.org/10.1371/journal.pone.0174107\n",
      "https://www.cambridge.org/core/product/identifier/S0967199417000089/type/journal_article\n",
      "http://journal.yiigle.com/LinkIn.do?linkin_type=pubmed&issn=0376-2491&year=2017&vol=97&issue=9&fpage=694\n",
      "http://dx.doi.org/10.1111/bjh.14571\n",
      "http://ascopubs.org/doi/abs/10.1200/JCO.2016.71.0814?url_ver=Z39.88-2003&rfr_id=ori:rid:crossref.org&rfr_dat=cr_pub%3dpubmed\n",
      "http://dx.doi.org/10.1111/jop.12569\n",
      "http://dx.plos.org/10.1371/journal.pone.0173246\n",
      "http://www.bloodjournal.org/cgi/pmidlookup?view=long&pmid=28288979\n",
      "https://dx.doi.org/10.1097/PAS.0000000000000839\n",
      "http://dx.doi.org/10.1038/modpathol.2017.5\n",
      "https://dx.doi.org/10.1007/s00125-017-4237-z\n",
      "https://dx.doi.org/10.1155/2017/1578429\n",
      "https://dx.doi.org/10.2147/BCTT.S125165\n",
      "https://dx.doi.org/10.2147/OTT.S128819\n",
      "http://dx.doi.org/10.1038/leu.2017.82\n",
      "https://linkinghub.elsevier.com/retrieve/pii/S0940-9602(17)30029-8\n",
      "http://www.tandfonline.com/doi/full/10.1080/10428194.2017.1287364\n",
      "http://dx.doi.org/10.1038/cddis.2017.78\n",
      "https://www.karger.com?DOI=10.1159/000448945\n",
      "https://linkinghub.elsevier.com/retrieve/pii/S0753-3322(16)32418-0\n",
      "https://clinicalepigeneticsjournal.biomedcentral.com/articles/10.1186/s13148-017-0322-x\n",
      "https://ccforum.biomedcentral.com/articles/10.1186/s13054-017-1631-3\n",
      "http://www.eurekaselect.com/150060/article\n",
      "https://www.karger.com?DOI=10.1159/000464389\n",
      "http://dx.doi.org/10.1002/jbt.21909\n",
      "https://dx.doi.org/10.1021/jacs.6b11825\n",
      "http://dx.doi.org/10.1038/labinvest.2017.9\n",
      "http://www.spandidos-publications.com/mmr/15/4/2280\n",
      "http://www.spandidos-publications.com/mmr/15/4/1963\n",
      "http://www.spandidos-publications.com/ijo/50/4/1392\n",
      "http://www.spandidos-publications.com/mmr/15/4/1585\n",
      "http://www.spandidos-publications.com/mmr/15/4/2204\n",
      "http://www.spandidos-publications.com/mmr/15/4/2154\n",
      "http://www.spandidos-publications.com/mmr/15/4/1713\n",
      "http://www.spandidos-publications.com/mmr/15/4/1727\n",
      "http://www.spandidos-publications.com/mmr/15/4/1547\n",
      "https://linkinghub.elsevier.com/retrieve/pii/S0304-3835(17)30145-3\n",
      "https://linkinghub.elsevier.com/retrieve/pii/S0378-1119(17)30134-8\n",
      "https://linkinghub.elsevier.com/retrieve/pii/S1874-9399(17)30079-2\n",
      "https://linkinghub.elsevier.com/retrieve/pii/S0278-6915(17)30091-1\n",
      "http://dx.doi.org/10.1038/srep43109\n",
      "http://www.jleukbio.org/cgi/pmidlookup?view=long&pmid=28254841\n",
      "http://dx.doi.org/10.1002/biof.1351\n",
      "http://dx.doi.org/10.1038/aps.2016.133\n",
      "https://dx.doi.org/10.1007/s10529-017-2308-3\n",
      "https://www.cambridge.org/core/product/identifier/S0007114517000174/type/journal_article\n",
      "https://dx.doi.org/10.1007/s10517-017-3648-7\n",
      "http://jcp.bmj.com/cgi/pmidlookup?view=long&pmid=28242622\n",
      "https://linkinghub.elsevier.com/retrieve/pii/S2405-4712(17)30044-3\n",
      "https://linkinghub.elsevier.com/retrieve/pii/S1443-9506(17)30027-6\n",
      "https://linkinghub.elsevier.com/retrieve/pii/S0006-291X(17)30383-2\n",
      "http://dx.doi.org/10.1038/srep42870\n",
      "http://dx.doi.org/10.1002/mrd.22787\n",
      "https://linkinghub.elsevier.com/retrieve/pii/S0006-2952(17)30092-8\n"
     ]
    }
   ],
   "source": [
    "with open('article-abstract-urls.txt', 'w+') as my_file:\n",
    "    for ids in ids_root.iter('IdList'):\n",
    "        for id in ids.iter('Id'):\n",
    "            url = abstract_url_base + id.text.encode('utf-8')\n",
    "            #print(url)\n",
    "            source_page = urllib2.urlopen(url)\n",
    "            source_page_soup = BeautifulSoup(source_page)\n",
    "            body = source_page_soup.body\n",
    "            icons_portlet = body.find('div', attrs={'class': 'icons portlet'})\n",
    "            if(icons_portlet):\n",
    "                print(icons_portlet.find('a').attrs[0][1])\n",
    "                #print(source_page_soup.body.find('div', attrs={'class': 'icons portlet'}).find('a').attrs[0][1])\n",
    "            my_file.write(url + '\\n')"
   ]
  },
  {
   "cell_type": "code",
   "execution_count": 77,
   "metadata": {
    "collapsed": false
   },
   "outputs": [
    {
     "data": {
      "text/plain": [
       "u'https://linkinghub.elsevier.com/retrieve/pii/S0168-0102(08)00148-X'"
      ]
     },
     "execution_count": 77,
     "metadata": {},
     "output_type": "execute_result"
    }
   ],
   "source": [
    "soup.body.find('div', attrs={'class': 'icons portlet'}).find('a').attrs[0][1]"
   ]
  },
  {
   "cell_type": "code",
   "execution_count": null,
   "metadata": {
    "collapsed": true
   },
   "outputs": [],
   "source": []
  },
  {
   "cell_type": "code",
   "execution_count": null,
   "metadata": {
    "collapsed": true
   },
   "outputs": [],
   "source": []
  },
  {
   "cell_type": "code",
   "execution_count": null,
   "metadata": {
    "collapsed": true
   },
   "outputs": [],
   "source": []
  },
  {
   "cell_type": "code",
   "execution_count": 34,
   "metadata": {
    "collapsed": false
   },
   "outputs": [],
   "source": [
    "import xml.etree.ElementTree as ET\n",
    "tree = ET.parse('pmc4304705.xml')"
   ]
  },
  {
   "cell_type": "code",
   "execution_count": 35,
   "metadata": {
    "collapsed": true
   },
   "outputs": [],
   "source": [
    "root = tree.getroot()"
   ]
  },
  {
   "cell_type": "markdown",
   "metadata": {},
   "source": [
    "## Get article content"
   ]
  },
  {
   "cell_type": "code",
   "execution_count": 36,
   "metadata": {
    "collapsed": false
   },
   "outputs": [],
   "source": [
    "with open('pmc4304705.txt', 'w+') as my_file:\n",
    "    for abstract in root.iter('abstract'):\n",
    "        for p in abstract.iter('p'):\n",
    "            my_file.write(p.text + ' ')\n",
    "    for body in root.iter('body'):\n",
    "        for p in body.iter('p'):\n",
    "            my_file.write(p.text.encode(\"utf-8\") + ' ')"
   ]
  },
  {
   "cell_type": "code",
   "execution_count": null,
   "metadata": {
    "collapsed": true
   },
   "outputs": [],
   "source": []
  }
 ],
 "metadata": {
  "anaconda-cloud": {},
  "kernelspec": {
   "display_name": "Python [Root]",
   "language": "python",
   "name": "Python [Root]"
  },
  "language_info": {
   "codemirror_mode": {
    "name": "ipython",
    "version": 2
   },
   "file_extension": ".py",
   "mimetype": "text/x-python",
   "name": "python",
   "nbconvert_exporter": "python",
   "pygments_lexer": "ipython2",
   "version": "2.7.13"
  }
 },
 "nbformat": 4,
 "nbformat_minor": 2
}
