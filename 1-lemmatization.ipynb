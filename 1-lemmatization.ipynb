{
 "cells": [
  {
   "cell_type": "markdown",
   "metadata": {},
   "source": [
    "# Load 'bcl2' sentences data"
   ]
  },
  {
   "cell_type": "code",
   "execution_count": 1,
   "metadata": {
    "collapsed": false
   },
   "outputs": [],
   "source": [
    "bcl2 = spark.read.csv('raw_data/article-content.txt', sep='\\t', inferSchema=True).toDF('id', 'sentences')"
   ]
  },
  {
   "cell_type": "code",
   "execution_count": 2,
   "metadata": {
    "collapsed": false
   },
   "outputs": [
    {
     "name": "stdout",
     "output_type": "stream",
     "text": [
      "+--------+--------------------+\n",
      "|      id|           sentences|\n",
      "+--------+--------------------+\n",
      "|28386116| we experimentall...|\n",
      "|28386116| to evaluate the ...|\n",
      "|28386116|it has been well ...|\n",
      "|28386116| our bioinformati...|\n",
      "|28386116| it has been prev...|\n",
      "+--------+--------------------+\n",
      "only showing top 5 rows\n",
      "\n"
     ]
    }
   ],
   "source": [
    "bcl2.show(5)"
   ]
  },
  {
   "cell_type": "markdown",
   "metadata": {},
   "source": [
    "# Lemmatizing words"
   ]
  },
  {
   "cell_type": "code",
   "execution_count": 3,
   "metadata": {
    "collapsed": true
   },
   "outputs": [],
   "source": [
    "from pyspark.sql.functions import udf\n",
    "from pyspark.sql.types import *"
   ]
  },
  {
   "cell_type": "code",
   "execution_count": 48,
   "metadata": {
    "collapsed": false
   },
   "outputs": [],
   "source": [
    "from nltk.stem import WordNetLemmatizer\n",
    "wordnet_lemmatizer = WordNetLemmatizer()\n",
    "\n",
    "def lemmatizer(s):\n",
    "    words_list = [wordnet_lemmatizer.lemmatize(w, 'v') for w in s.split()]\n",
    "    return(words_list)\n",
    "lemmatizer_udf = udf(lemmatizer, ArrayType(StringType()))"
   ]
  },
  {
   "cell_type": "code",
   "execution_count": 204,
   "metadata": {
    "collapsed": false
   },
   "outputs": [],
   "source": [
    "bcl2_lemm = bcl2.select(bcl2.id, bcl2.sentences, lemmatizer_udf(bcl2.sentences).alias('lemm_words'))"
   ]
  },
  {
   "cell_type": "markdown",
   "metadata": {
    "collapsed": true
   },
   "source": [
    "# Load gene regulation vocabulary"
   ]
  },
  {
   "cell_type": "code",
   "execution_count": null,
   "metadata": {
    "collapsed": true
   },
   "outputs": [],
   "source": []
  },
  {
   "cell_type": "code",
   "execution_count": 177,
   "metadata": {
    "collapsed": false
   },
   "outputs": [],
   "source": [
    "import pandas as pd"
   ]
  },
  {
   "cell_type": "code",
   "execution_count": 178,
   "metadata": {
    "collapsed": false
   },
   "outputs": [],
   "source": [
    "gr_df = pd.read_csv('raw_data/bcl2_regulation.csv', names=['word'])"
   ]
  },
  {
   "cell_type": "code",
   "execution_count": 185,
   "metadata": {
    "collapsed": false
   },
   "outputs": [],
   "source": [
    "gr_lemm_words = [wordnet_lemmatizer.lemmatize(w.lower(), 'v') for w in gr_df['word'] ]"
   ]
  },
  {
   "cell_type": "code",
   "execution_count": null,
   "metadata": {
    "collapsed": false
   },
   "outputs": [],
   "source": []
  },
  {
   "cell_type": "markdown",
   "metadata": {},
   "source": [
    "# Filter sentences that has 'bcl2' and any words from the `gr_lemm_words` list"
   ]
  },
  {
   "cell_type": "code",
   "execution_count": 186,
   "metadata": {
    "collapsed": true
   },
   "outputs": [],
   "source": [
    "from pyspark.sql.functions import udf"
   ]
  },
  {
   "cell_type": "code",
   "execution_count": 187,
   "metadata": {
    "collapsed": true
   },
   "outputs": [],
   "source": [
    "def filter_bcl2_regulation(l):\n",
    "    set0 = set(gr_lemm_words)\n",
    "    set1 = set(l)\n",
    "    common_words = list(set0.intersection(set1))\n",
    "    if len(common_words) > 0:\n",
    "        return(common_words)\n",
    "    else:\n",
    "        return(None)\n",
    "filter_bcl2_regulation_udf = udf(filter_bcl2_regulation, ArrayType(StringType()))"
   ]
  },
  {
   "cell_type": "code",
   "execution_count": 206,
   "metadata": {
    "collapsed": false
   },
   "outputs": [],
   "source": [
    "bcl2_regulation_df = bcl2_lemm.select(bcl2_lemm.id, bcl2_lemm.sentences, bcl2_lemm.lemm_words, filter_bcl2_regulation_udf(bcl2_lemm.lemm_words).alias('bcl2_regulation'))"
   ]
  },
  {
   "cell_type": "code",
   "execution_count": 207,
   "metadata": {
    "collapsed": false
   },
   "outputs": [],
   "source": [
    "bcl2_regulation_df = bcl2_regulation_df.filter(bcl2_regulation_df.bcl2_regulation.isNotNull() )"
   ]
  },
  {
   "cell_type": "code",
   "execution_count": 208,
   "metadata": {
    "collapsed": false
   },
   "outputs": [
    {
     "name": "stdout",
     "output_type": "stream",
     "text": [
      "+--------+--------------------+--------------------+--------------------+\n",
      "|      id|           sentences|          lemm_words|     bcl2_regulation|\n",
      "+--------+--------------------+--------------------+--------------------+\n",
      "|28386116|it has been well ...|[it, have, be, we...|    [proto-oncogene]|\n",
      "|28386116| compared to the ...|[compare, to, the...|          [increase]|\n",
      "|28386116|bcl2 is a human p...|[bcl2, be, a, hum...|    [proto-oncogene]|\n",
      "|28386116| many examples ex...|[many, examples, ...|           [elevate]|\n",
      "|28386116| several mechanis...|[several, mechani...|    [overexpression]|\n",
      "|28386116| we observed ~75%...|[we, observe, ~75...|          [increase]|\n",
      "|28386116| taken together, ...|[take, together,,...|    [proto-oncogene]|\n",
      "|28382141| however, the exp...|[however,, the, e...|    [overexpression]|\n",
      "|28382141| in univariate su...|[in, univariate, ...|          [survival]|\n",
      "|28382141| enktl, an ebv-as...|[enktl,, an, ebv-...|[overexpression, ...|\n",
      "|28382141| however, the exp...|[however,, the, e...|    [overexpression]|\n",
      "|28382141|as yet, it was kn...|[as, yet,, it, be...|[anti-apoptotic, ...|\n",
      "|28382141|bcl2 is a central...|[bcl2, be, a, cen...|[anti-apoptotic, ...|\n",
      "|28382141| in addition, no ...|[in, addition,, n...|      [upregulation]|\n",
      "|28382141| using nk-92 cell...|[use, nk-92, cell...|  [increase, induce]|\n",
      "|28382095| the bcl2 protein...|[the, bcl2, prote...|[inhibit, death, ...|\n",
      "|28382095| bcl2 is the key ...|[bcl2, be, the, k...|          [oncogene]|\n",
      "|28382095| [13] reported th...|[[13], report, th...|         [associate]|\n",
      "|28382095| previously, we a...|[previously,, we,...|          [survival]|\n",
      "|28382095|prognostic influe...|[prognostic, infl...|         [associate]|\n",
      "+--------+--------------------+--------------------+--------------------+\n",
      "only showing top 20 rows\n",
      "\n"
     ]
    }
   ],
   "source": [
    "bcl2_regulation_df.show()"
   ]
  },
  {
   "cell_type": "markdown",
   "metadata": {},
   "source": [
    "# Load bcl2 family genes"
   ]
  },
  {
   "cell_type": "code",
   "execution_count": 209,
   "metadata": {
    "collapsed": false
   },
   "outputs": [],
   "source": [
    "bcl2_family = pd.read_csv('raw_data/bcl2_family_genes.csv', names=['genes'])\n",
    "bcl2_family_lemm = [wordnet_lemmatizer.lemmatize(w.lower(), 'v') for w in bcl2_family['genes'] ]"
   ]
  },
  {
   "cell_type": "code",
   "execution_count": null,
   "metadata": {
    "collapsed": false
   },
   "outputs": [],
   "source": []
  },
  {
   "cell_type": "markdown",
   "metadata": {},
   "source": [
    "# Filter sentences that has bcl2, regulation word and bcl2 family genes"
   ]
  },
  {
   "cell_type": "code",
   "execution_count": 210,
   "metadata": {
    "collapsed": false
   },
   "outputs": [],
   "source": [
    "def filter_bcl2_family(l):\n",
    "    set0 = set(bcl2_family_lemm)\n",
    "    set1 = set(l)\n",
    "    common_words = list(set0.intersection(set1))\n",
    "    if len(common_words) > 0:\n",
    "        return(common_words)\n",
    "    else:\n",
    "        return(None)\n",
    "filter_bcl2_family_udf = udf(filter_bcl2_family, ArrayType(StringType()))"
   ]
  },
  {
   "cell_type": "code",
   "execution_count": 216,
   "metadata": {
    "collapsed": false
   },
   "outputs": [],
   "source": [
    "# bcl2_family_df = bcl2_regulation_df.select(bcl2_regulation_df.id, bcl2_regulation_df.sentences, bcl2_regulation_df.bcl2_regulation, filter_bcl2_family_udf(bcl2_regulation_df.sentences).alias('bcl2_family'))\n",
    "bcl2_family_df = bcl2_regulation_df.select(bcl2_regulation_df.id, \n",
    "                                           bcl2_regulation_df.sentences, \n",
    "                                           bcl2_regulation_df.lemm_words, \n",
    "                                           bcl2_regulation_df.bcl2_regulation, \n",
    "                                           filter_bcl2_family_udf(bcl2_regulation_df.lemm_words).alias('bcl2_family'))"
   ]
  },
  {
   "cell_type": "code",
   "execution_count": 217,
   "metadata": {
    "collapsed": false
   },
   "outputs": [],
   "source": [
    "bcl2_family_df = bcl2_family_df.filter(bcl2_family_df.bcl2_family.isNotNull())"
   ]
  },
  {
   "cell_type": "code",
   "execution_count": 218,
   "metadata": {
    "collapsed": false
   },
   "outputs": [
    {
     "name": "stdout",
     "output_type": "stream",
     "text": [
      "+--------+--------------------+--------------------+--------------------+-----------+\n",
      "|      id|           sentences|          lemm_words|     bcl2_regulation|bcl2_family|\n",
      "+--------+--------------------+--------------------+--------------------+-----------+\n",
      "|28369145| albicans or go-p...|[albicans, or, go...|          [increase]|      [bax]|\n",
      "|28369145| (f) increased ra...|[(f), increase, r...|[increase, apopto...|      [bax]|\n",
      "|28367088| the addition of ...|[the, addition, o...|  [increase, reduce]|      [bax]|\n",
      "|28350842| it was demonstra...|[it, be, demonstr...|[anti-apoptotic, ...|      [bax]|\n",
      "|28334048| also, there was ...|[also,, there, be...|[pro-apoptotic, i...|      [bax]|\n",
      "|28157696|tramp cells expos...|[tramp, cells, ex...|             [alter]|      [bax]|\n",
      "|28105423|seminal mirna-122...|[seminal, mirna-1...|  [increase, reduce]|      [bax]|\n",
      "|28076382|g004to assess whe...|[g004to, assess, ...|[pro-apoptotic, a...|      [bax]|\n",
      "|28073348| bcl2 protein is ...|[bcl2, protein, b...|[prevent, inhibit...|      [bax]|\n",
      "|28057912| apoptosis-relate...|[apoptosis-relate...|           [inhibit]|      [bax]|\n",
      "|28056107| it has recently ...|[it, have, recent...|[pro-apoptotic, m...|      [bax]|\n",
      "|28056107| parkin-dependent...|[parkin-dependent...|        [antagonize]|     [mcl1]|\n",
      "|28049506| 3c also (i) incr...|[3c, also, (i), i...|  [increase, induce]|      [bax]|\n",
      "|28049506| tumor suppressor...|[tumor, suppresso...|[regulator, suppr...|      [bax]|\n",
      "|28049506| p53 may be invol...|[p53, may, be, in...|    [downregulation]|      [bax]|\n",
      "|28049506| 3c was found to ...|[3c, be, find, to...|          [increase]|      [bax]|\n",
      "|28046000| meanwhile, apopt...|[meanwhile,, apop...|     [pro-apoptotic]|      [bax]|\n",
      "|28018211| it also increase...|[it, also, increa...|[increase, suppress]|      [bax]|\n",
      "|28018211| tubulosa treatme...|[tubulosa, treatm...|          [increase]|      [bax]|\n",
      "|28018211|bcl2 protein expr...|[bcl2, protein, e...|   [enhance, reduce]|      [bax]|\n",
      "+--------+--------------------+--------------------+--------------------+-----------+\n",
      "only showing top 20 rows\n",
      "\n"
     ]
    }
   ],
   "source": [
    "bcl2_family_df.show()"
   ]
  },
  {
   "cell_type": "code",
   "execution_count": 219,
   "metadata": {
    "collapsed": false
   },
   "outputs": [
    {
     "name": "stdout",
     "output_type": "stream",
     "text": [
      "+--------+--------------------+--------------------+--------------------+------------------+\n",
      "|      id|           sentences|          lemm_words|     bcl2_regulation|       bcl2_family|\n",
      "+--------+--------------------+--------------------+--------------------+------------------+\n",
      "|27433938| to further explo...|[to, further, exp...|    [overexpression]|        [a1, mcl1]|\n",
      "|27014180| the latter activ...|[the, latter, act...|[trigger, inhibit...|             [bad]|\n",
      "|27014180| bad promotes cel...|[bad, promote, ce...|[inhibit, death, ...|             [bad]|\n",
      "|27529753| subsequently, we...|[subsequently,, w...|          [increase]|        [bad, bax]|\n",
      "|27014180| normally, bcl2 i...|[normally,, bcl2,...|[prevent, interac...|        [bad, bax]|\n",
      "|27529753| the expression o...|[the, expression,...|          [suppress]|        [bad, bax]|\n",
      "|27776559| the histograms a...|[the, histograms,...|[increase, pro-ap...|[bad, bcl-xl, bax]|\n",
      "|27990281| because the bad ...|[because, the, ba...|[bind, anti-apopt...|        [bad, hrk]|\n",
      "|27990281| based on these o...|[base, on, these,...|[anti-apoptotic, ...|             [bak]|\n",
      "|27990281| all of these com...|[all, of, these, ...|    [anti-apoptotic]|             [bak]|\n",
      "|27990281| and the bh3-only...|[and, the, bh3-on...| [apoptosis, induce]|        [bak, bax]|\n",
      "|27990281| to the extent th...|[to, the, extent,...|[activation, acti...|        [bak, bax]|\n",
      "|27990281|bh3 mimetics are ...|[bh3, mimetics, b...|[inhibit, anti-ap...|        [bak, bax]|\n",
      "|27990281| the indirect act...|[the, indirect, a...|[activation, acti...|        [bak, bax]|\n",
      "|27990281| in this model, b...|[in, this, model,...|[inhibit, death, ...|        [bak, bax]|\n",
      "|27776559| moreover, nelara...|[moreover,, nelar...|[pro-apoptotic, i...|        [bak, bax]|\n",
      "|27990281| in model 2 (righ...|[in, model, 2, (r...|[anti-apoptotic, ...|        [bak, bax]|\n",
      "|27990281| instead, binding...|[instead,, bind, ...|[bind, activation...|        [bak, bax]|\n",
      "|27203692|) are also pro-ap...|[), be, also, pro...| [prevent, interact]|        [bak, bax]|\n",
      "|28367088| the addition of ...|[the, addition, o...|  [increase, reduce]|             [bax]|\n",
      "+--------+--------------------+--------------------+--------------------+------------------+\n",
      "only showing top 20 rows\n",
      "\n"
     ]
    }
   ],
   "source": [
    "bcl2_family_df.orderBy('bcl2_family').show()"
   ]
  },
  {
   "cell_type": "code",
   "execution_count": 224,
   "metadata": {
    "collapsed": false
   },
   "outputs": [
    {
     "name": "stdout",
     "output_type": "stream",
     "text": [
      "+--------+--------------------+--------------------+--------------------+-----------+\n",
      "|      id|           sentences|          lemm_words|     bcl2_regulation|bcl2_family|\n",
      "+--------+--------------------+--------------------+--------------------+-----------+\n",
      "|28369145| albicans or go-p...|[albicans, or, go...|          [increase]|        bax|\n",
      "|28369145| (f) increased ra...|[(f), increase, r...|[increase, apopto...|        bax|\n",
      "|28367088| the addition of ...|[the, addition, o...|  [increase, reduce]|        bax|\n",
      "|28350842| it was demonstra...|[it, be, demonstr...|[anti-apoptotic, ...|        bax|\n",
      "|28334048| also, there was ...|[also,, there, be...|[pro-apoptotic, i...|        bax|\n",
      "+--------+--------------------+--------------------+--------------------+-----------+\n",
      "only showing top 5 rows\n",
      "\n"
     ]
    }
   ],
   "source": [
    "# explode by bcl2 family genes\n",
    "from pyspark.sql.functions import explode\n",
    "bcl2_family_explode = bcl2_family_df.select(bcl2_family_df.id, \n",
    "                                            bcl2_family_df.sentences,\n",
    "                                            bcl2_family_df.lemm_words,\n",
    "                                            bcl2_family_df.bcl2_regulation,\n",
    "                                            explode(bcl2_family_df.bcl2_family).alias('bcl2_family'))\n",
    "bcl2_family_explode.show(5)"
   ]
  },
  {
   "cell_type": "code",
   "execution_count": 226,
   "metadata": {
    "collapsed": false
   },
   "outputs": [
    {
     "name": "stdout",
     "output_type": "stream",
     "text": [
      "+--------+--------------------+--------------------+---------------+-----------+\n",
      "|      id|           sentences|          lemm_words|bcl2_regulation|bcl2_family|\n",
      "+--------+--------------------+--------------------+---------------+-----------+\n",
      "|28369145| albicans or go-p...|[albicans, or, go...|       increase|        bax|\n",
      "|28369145| (f) increased ra...|[(f), increase, r...|       increase|        bax|\n",
      "|28369145| (f) increased ra...|[(f), increase, r...|      apoptosis|        bax|\n",
      "|28369145| (f) increased ra...|[(f), increase, r...|     activation|        bax|\n",
      "|28367088| the addition of ...|[the, addition, o...|       increase|        bax|\n",
      "+--------+--------------------+--------------------+---------------+-----------+\n",
      "only showing top 5 rows\n",
      "\n"
     ]
    }
   ],
   "source": [
    "# explode by bcl2 regulation vocabulary\n",
    "bcl2_regulation_explode = bcl2_family_explode.select(bcl2_family_explode.id,\n",
    "                                                     bcl2_family_explode.sentences,\n",
    "                                                     bcl2_family_explode.lemm_words,\n",
    "                                                     explode(bcl2_family_explode.bcl2_regulation).alias('bcl2_regulation'),\n",
    "                                                     bcl2_family_explode.bcl2_family)\n",
    "bcl2_regulation_explode.show(5)"
   ]
  },
  {
   "cell_type": "code",
   "execution_count": 229,
   "metadata": {
    "collapsed": false
   },
   "outputs": [
    {
     "name": "stdout",
     "output_type": "stream",
     "text": [
      "+--------+--------------------+--------------------+---------------+-----------+\n",
      "|      id|           sentences|          lemm_words|bcl2_regulation|bcl2_family|\n",
      "+--------+--------------------+--------------------+---------------+-----------+\n",
      "|27990281| in this model, b...|[in, this, model,...|       activate|        bak|\n",
      "|27990281|in model 1 (left)...|[in, model, 1, (l...|       activate|        bim|\n",
      "|27990281|in model 1 (left)...|[in, model, 1, (l...|       activate|        bax|\n",
      "|27990281| the indirect act...|[the, indirect, a...|       activate|        bax|\n",
      "|27990281| to the extent th...|[to, the, extent,...|       activate|        bax|\n",
      "|27990281| based on these o...|[base, on, these,...|       activate|        bak|\n",
      "|27777645| puma binds and a...|[puma, bind, and,...|       activate|       puma|\n",
      "|27777645| puma binds and a...|[puma, bind, and,...|       activate|        bax|\n",
      "|27014180| the latter activ...|[the, latter, act...|       activate|        bad|\n",
      "|27990281| in model 2 (righ...|[in, model, 2, (r...|       activate|        bak|\n",
      "|27990281| in this model, b...|[in, this, model,...|       activate|        bax|\n",
      "|27990281| in model 2 (righ...|[in, model, 2, (r...|       activate|        bax|\n",
      "|27990281| the indirect act...|[the, indirect, a...|       activate|        bak|\n",
      "|27990281| to the extent th...|[to, the, extent,...|       activate|        bak|\n",
      "|27990281| finally, the uni...|[finally,, the, u...|       activate|        bax|\n",
      "|27990281| the indirect act...|[the, indirect, a...|     activation|        bak|\n",
      "|27821806| ectopic introduc...|[ectopic, introdu...|     activation|     bcl-xl|\n",
      "|27729033| besides, we foun...|[besides,, we, fi...|     activation|        bax|\n",
      "|27777645| puma binds and a...|[puma, bind, and,...|     activation|        bax|\n",
      "|27821806| ectopic introduc...|[ectopic, introdu...|     activation|        bax|\n",
      "+--------+--------------------+--------------------+---------------+-----------+\n",
      "only showing top 20 rows\n",
      "\n"
     ]
    }
   ],
   "source": [
    "bcl2_regulation_explode.orderBy('bcl2_regulation').show()"
   ]
  },
  {
   "cell_type": "code",
   "execution_count": 249,
   "metadata": {
    "collapsed": false
   },
   "outputs": [],
   "source": [
    "from pyspark.sql.functions import concat, concat_ws\n",
    "bcl2_final_df = bcl2_regulation_explode.select(bcl2_regulation_explode.id,  \n",
    "                                               concat_ws('_', bcl2_regulation_explode.bcl2_regulation, bcl2_regulation_explode.bcl2_family).alias('bcl2_regulates_family'),\n",
    "                                               bcl2_regulation_explode.sentences)"
   ]
  },
  {
   "cell_type": "code",
   "execution_count": 250,
   "metadata": {
    "collapsed": false
   },
   "outputs": [
    {
     "name": "stdout",
     "output_type": "stream",
     "text": [
      "+--------+---------------------+--------------------+\n",
      "|      id|bcl2_regulates_family|           sentences|\n",
      "+--------+---------------------+--------------------+\n",
      "|27014180|         activate_bad| the latter activ...|\n",
      "|27990281|         activate_bak| the indirect act...|\n",
      "|27990281|         activate_bak| to the extent th...|\n",
      "|27990281|         activate_bak| in this model, b...|\n",
      "|27990281|         activate_bak| in model 2 (righ...|\n",
      "+--------+---------------------+--------------------+\n",
      "only showing top 5 rows\n",
      "\n"
     ]
    }
   ],
   "source": [
    "bcl2_final_df.orderBy('bcl2_regulates_family').show(5)"
   ]
  },
  {
   "cell_type": "code",
   "execution_count": 253,
   "metadata": {
    "collapsed": false
   },
   "outputs": [],
   "source": [
    "bcl2_final_df.orderBy('bcl2_regulates_family')\\\n",
    "    .coalesce(1)\\\n",
    "    .write.format(\"com.databricks.spark.csv\")\\\n",
    "    .option(\"header\", \"true\")\\\n",
    "    .save(\"bcl2_final_results\")"
   ]
  },
  {
   "cell_type": "code",
   "execution_count": null,
   "metadata": {
    "collapsed": true
   },
   "outputs": [],
   "source": []
  }
 ],
 "metadata": {
  "anaconda-cloud": {},
  "kernelspec": {
   "display_name": "Python [Root]",
   "language": "python",
   "name": "Python [Root]"
  },
  "language_info": {
   "codemirror_mode": {
    "name": "ipython",
    "version": 2
   },
   "file_extension": ".py",
   "mimetype": "text/x-python",
   "name": "python",
   "nbconvert_exporter": "python",
   "pygments_lexer": "ipython2",
   "version": "2.7.13"
  }
 },
 "nbformat": 4,
 "nbformat_minor": 2
}
