{
 "cells": [
  {
   "cell_type": "code",
   "execution_count": null,
   "metadata": {
    "collapsed": true
   },
   "outputs": [],
   "source": [
    "import xml.etree.ElementTree as ET\n",
    "import urllib2\n",
    "retmax = 1000 \n",
    "ids_page_url = \"https://eutils.ncbi.nlm.nih.gov/entrez/eutils/esearch.fcgi?db=pubmed&term=bcl2&retmax=\" + str(retmax)\n",
    "ids_xml_page = urllib2.urlopen(ids_page_url).read()\n",
    "\n",
    "ids_root = ET.fromstring(ids_xml_page)\n",
    "# write ids to article-ids.txt\n",
    "# with open('raw_data/article-ids.txt', 'w+') as my_file:\n",
    "    \n",
    "abstract_url_base = \"https://www.ncbi.nlm.nih.gov/pubmed/\"\n",
    "\n",
    "for ids in ids_root.iter('IdList'):\n",
    "    for id in ids.iter('Id'):\n",
    "        url = abstract_url_base + id.text.encode('utf-8')\n",
    "        req = urllib2.Request(url, headers={'User-Agent' : \"Magic Browser\"})\n",
    "        try:\n",
    "            html_content = urllib2.urlopen(req)\n",
    "            for p in soup.find_all('p'):\n",
    "                article = article + p.text\n",
    "                article = article.replace('\\r', ' ').replace('\\n', ' ')\n",
    "                print(article[:20])\n",
    "        except:\n",
    "            pass"
   ]
  },
  {
   "cell_type": "code",
   "execution_count": null,
   "metadata": {
    "collapsed": true
   },
   "outputs": [],
   "source": []
  }
 ],
 "metadata": {
  "kernelspec": {
   "display_name": "Python [Root]",
   "language": "python",
   "name": "Python [Root]"
  },
  "language_info": {
   "codemirror_mode": {
    "name": "ipython",
    "version": 2
   },
   "file_extension": ".py",
   "mimetype": "text/x-python",
   "name": "python",
   "nbconvert_exporter": "python",
   "pygments_lexer": "ipython2",
   "version": "2.7.13"
  }
 },
 "nbformat": 4,
 "nbformat_minor": 2
}
