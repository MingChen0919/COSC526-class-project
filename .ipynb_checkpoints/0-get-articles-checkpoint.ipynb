{
 "cells": [
  {
   "cell_type": "markdown",
   "metadata": {},
   "source": [
    "# Write article ids to a file"
   ]
  },
  {
   "cell_type": "code",
   "execution_count": 233,
   "metadata": {
    "collapsed": true
   },
   "outputs": [],
   "source": [
    "import xml.etree.ElementTree as ET\n",
    "import urllib2\n",
    "retmax = 100 \n",
    "ids_page_url = \"https://eutils.ncbi.nlm.nih.gov/entrez/eutils/esearch.fcgi?db=pubmed&term=bcl2&retmax=\" + str(retmax)\n",
    "ids_xml_page = urllib2.urlopen(ids_page_url).read()\n",
    "\n",
    "ids_root = ET.fromstring(ids_xml_page)\n",
    "# write ids to article-ids.txt\n",
    "with open('raw_data/article-ids.txt', 'w+') as my_file:\n",
    "    for ids in ids_root.iter('IdList'):\n",
    "        for id in ids.iter('Id'):\n",
    "            my_file.write(id.text.encode('utf-8') + '\\n')"
   ]
  },
  {
   "cell_type": "markdown",
   "metadata": {},
   "source": [
    "# Get article urls (non-spark method)"
   ]
  },
  {
   "cell_type": "code",
   "execution_count": 234,
   "metadata": {
    "collapsed": false
   },
   "outputs": [],
   "source": [
    "from bs4 import BeautifulSoup\n",
    "\n",
    "abstract_url_base = \"https://www.ncbi.nlm.nih.gov/pubmed/\"\n",
    "# write urls to article-urls.txt\n",
    "with open('raw_data/article-urls.txt', 'w+') as my_file:\n",
    "    for ids in ids_root.iter('IdList'):\n",
    "        for id in ids.iter('Id'):\n",
    "            # build the full pubmed url\n",
    "            url = abstract_url_base + id.text.encode('utf-8')\n",
    "            html_content = urllib2.urlopen(url)\n",
    "            soup = BeautifulSoup(html_content)\n",
    "            full_text_link = soup.find('a', attrs={'free_status': 'free'})\n",
    "            if(full_text_link):\n",
    "                my_file.write(full_text_link.attrs['href'] + '\\n')\n",
    "            "
   ]
  },
  {
   "cell_type": "markdown",
   "metadata": {},
   "source": [
    "## Load article url data"
   ]
  },
  {
   "cell_type": "code",
   "execution_count": 235,
   "metadata": {
    "collapsed": false
   },
   "outputs": [],
   "source": [
    "article_urls = spark.read.csv('raw_data/article-urls.txt', sep=' ', inferSchema=True).toDF('url')"
   ]
  },
  {
   "cell_type": "code",
   "execution_count": 236,
   "metadata": {
    "collapsed": false
   },
   "outputs": [
    {
     "name": "stdout",
     "output_type": "stream",
     "text": [
      "+---------------------------------------------------------------------+\n",
      "|url                                                                  |\n",
      "+---------------------------------------------------------------------+\n",
      "|https://www.ncbi.nlm.nih.gov/pmc/articles/pmid/28386377/             |\n",
      "|http://dx.doi.org/10.1038/s41598-017-00739-y                         |\n",
      "|http://www.jcancer.org/v08p0793.htm                                  |\n",
      "|https://ejbc.kr/DOIx.php?id=10.4048/jbc.2017.20.1.54                 |\n",
      "|http://www.impactjournals.com/oncotarget/misc/linkedout.php?pii=16580|\n",
      "+---------------------------------------------------------------------+\n",
      "only showing top 5 rows\n",
      "\n"
     ]
    }
   ],
   "source": [
    "article_urls.show(5, truncate=False)"
   ]
  },
  {
   "cell_type": "code",
   "execution_count": 237,
   "metadata": {
    "collapsed": false
   },
   "outputs": [],
   "source": [
    "def get_article_content(url):\n",
    "    req = urllib2.Request(url, headers={'User-Agent' : \"Magic Browser\"})\n",
    "    soup = BeautifulSoup(urllib2.urlopen(req))\n",
    "    soup = soup\n",
    "    #soup = soup.replace('\\r', ' ').replace('\\n', ' ')\n",
    "    article = ''\n",
    "    for p in soup.find_all('p'):\n",
    "        article = article + p.text\n",
    "    article = article.replace('\\r', ' ').replace('\\n', ' ')\n",
    "    return(article)\n",
    "get_article_content_udf = udf(get_article_content, StringType())"
   ]
  },
  {
   "cell_type": "code",
   "execution_count": 238,
   "metadata": {
    "collapsed": false
   },
   "outputs": [],
   "source": [
    "articles = article_urls.select(article_urls.url, get_article_content_udf(article_urls.url).alias('article'))"
   ]
  },
  {
   "cell_type": "code",
   "execution_count": null,
   "metadata": {
    "collapsed": true
   },
   "outputs": [],
   "source": []
  },
  {
   "cell_type": "code",
   "execution_count": null,
   "metadata": {
    "collapsed": false
   },
   "outputs": [],
   "source": []
  },
  {
   "cell_type": "code",
   "execution_count": null,
   "metadata": {
    "collapsed": false
   },
   "outputs": [],
   "source": []
  },
  {
   "cell_type": "code",
   "execution_count": null,
   "metadata": {
    "collapsed": false
   },
   "outputs": [],
   "source": []
  },
  {
   "cell_type": "code",
   "execution_count": null,
   "metadata": {
    "collapsed": true
   },
   "outputs": [],
   "source": []
  },
  {
   "cell_type": "code",
   "execution_count": null,
   "metadata": {
    "collapsed": true
   },
   "outputs": [],
   "source": []
  },
  {
   "cell_type": "code",
   "execution_count": null,
   "metadata": {
    "collapsed": true
   },
   "outputs": [],
   "source": []
  },
  {
   "cell_type": "code",
   "execution_count": null,
   "metadata": {
    "collapsed": true
   },
   "outputs": [],
   "source": []
  },
  {
   "cell_type": "code",
   "execution_count": null,
   "metadata": {
    "collapsed": true
   },
   "outputs": [],
   "source": []
  },
  {
   "cell_type": "code",
   "execution_count": null,
   "metadata": {
    "collapsed": true
   },
   "outputs": [],
   "source": []
  },
  {
   "cell_type": "code",
   "execution_count": null,
   "metadata": {
    "collapsed": true
   },
   "outputs": [],
   "source": []
  },
  {
   "cell_type": "code",
   "execution_count": null,
   "metadata": {
    "collapsed": true
   },
   "outputs": [],
   "source": []
  },
  {
   "cell_type": "code",
   "execution_count": null,
   "metadata": {
    "collapsed": true
   },
   "outputs": [],
   "source": []
  },
  {
   "cell_type": "code",
   "execution_count": null,
   "metadata": {
    "collapsed": true
   },
   "outputs": [],
   "source": []
  },
  {
   "cell_type": "code",
   "execution_count": null,
   "metadata": {
    "collapsed": true
   },
   "outputs": [],
   "source": []
  },
  {
   "cell_type": "code",
   "execution_count": null,
   "metadata": {
    "collapsed": true
   },
   "outputs": [],
   "source": []
  },
  {
   "cell_type": "code",
   "execution_count": null,
   "metadata": {
    "collapsed": true
   },
   "outputs": [],
   "source": []
  },
  {
   "cell_type": "code",
   "execution_count": null,
   "metadata": {
    "collapsed": true
   },
   "outputs": [],
   "source": []
  },
  {
   "cell_type": "code",
   "execution_count": null,
   "metadata": {
    "collapsed": true
   },
   "outputs": [],
   "source": []
  },
  {
   "cell_type": "code",
   "execution_count": null,
   "metadata": {
    "collapsed": true
   },
   "outputs": [],
   "source": []
  },
  {
   "cell_type": "code",
   "execution_count": null,
   "metadata": {
    "collapsed": true
   },
   "outputs": [],
   "source": []
  },
  {
   "cell_type": "code",
   "execution_count": null,
   "metadata": {
    "collapsed": true
   },
   "outputs": [],
   "source": []
  }
 ],
 "metadata": {
  "anaconda-cloud": {},
  "kernelspec": {
   "display_name": "Python [Root]",
   "language": "python",
   "name": "Python [Root]"
  },
  "language_info": {
   "codemirror_mode": {
    "name": "ipython",
    "version": 2
   },
   "file_extension": ".py",
   "mimetype": "text/x-python",
   "name": "python",
   "nbconvert_exporter": "python",
   "pygments_lexer": "ipython2",
   "version": "2.7.13"
  }
 },
 "nbformat": 4,
 "nbformat_minor": 2
}
