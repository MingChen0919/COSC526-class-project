{
 "cells": [
  {
   "cell_type": "markdown",
   "metadata": {},
   "source": [
    "## Write article ids to a file"
   ]
  },
  {
   "cell_type": "code",
   "execution_count": 14,
   "metadata": {
    "collapsed": true
   },
   "outputs": [],
   "source": [
    "import xml.etree.ElementTree as ET\n",
    "import urllib2\n",
    "retmax = 100 \n",
    "ids_page_url = \"https://eutils.ncbi.nlm.nih.gov/entrez/eutils/esearch.fcgi?db=pubmed&term=bcl2&retmax=\" + str(retmax)\n",
    "ids_xml_page = urllib2.urlopen(ids_page_url).read()\n",
    "\n",
    "ids_root = ET.fromstring(ids_xml_page)\n",
    "# write ids to article-ids.txt\n",
    "with open('article-ids.txt', 'w+') as my_file:\n",
    "    for ids in ids_root.iter('IdList'):\n",
    "        for id in ids.iter('Id'):\n",
    "            my_file.write(id.text.encode('utf-8') + '\\n')"
   ]
  },
  {
   "cell_type": "markdown",
   "metadata": {},
   "source": [
    "# Option 1: non-spark way to obtain url\n",
    "\n",
    "loop through ids and extract url, and then write article urls to a file"
   ]
  },
  {
   "cell_type": "code",
   "execution_count": null,
   "metadata": {
    "collapsed": false
   },
   "outputs": [],
   "source": [
    "abstract_url_base = \"https://www.ncbi.nlm.nih.gov/pubmed/\"\n",
    "# write urls to article-urls.txt\n",
    "with open('article-urls.txt', 'w+') as my_file:\n",
    "    for ids in ids_root.iter('IdList'):\n",
    "        for id in ids.iter('Id'):\n",
    "            # build the full pubmed url\n",
    "            url = abstract_url_base + id.text.encode('utf-8')\n",
    "            source_page = urllib2.urlopen(url)\n",
    "            source_page_soup = BeautifulSoup(source_page)\n",
    "            body = source_page_soup.body\n",
    "            icons_portlet = body.find('div', attrs={'class': 'icons portlet'})\n",
    "            # if there is external link to the article, find the external link to the article\n",
    "            if(icons_portlet):\n",
    "                article_url = icons_portlet.find('a').attrs[0][1]\n",
    "                #print(article_url)\n",
    "                my_file.write(article_url + '\\n')"
   ]
  },
  {
   "cell_type": "markdown",
   "metadata": {},
   "source": [
    "# Option 2: spark way to obtain url\n",
    "Load ids from a file, and create a data frame. Define a udf function to extract the article url based on the ids."
   ]
  },
  {
   "cell_type": "code",
   "execution_count": null,
   "metadata": {
    "collapsed": false
   },
   "outputs": [],
   "source": [
    "article_ids = spark.read.csv('article-ids.txt', sep=' ', inferSchema=True).toDF('id')\n",
    "article_ids.show(5)"
   ]
  },
  {
   "cell_type": "code",
   "execution_count": null,
   "metadata": {
    "collapsed": false
   },
   "outputs": [],
   "source": [
    "from pyspark.sql.functions import udf\n",
    "from BeautifulSoup import BeautifulSoup\n",
    "def get_article_url(id):\n",
    "    # build the full pubmed url\n",
    "    abstract_url_base = \"https://www.ncbi.nlm.nih.gov/pubmed/\"\n",
    "    url = abstract_url_base + str(id)\n",
    "    # extract page content from url\n",
    "    source_page = urllib2.urlopen(url)\n",
    "    source_page_soup = BeautifulSoup(source_page)\n",
    "    body = source_page_soup.body\n",
    "    icons_portlet = body.find('div', attrs={'class': 'icons portlet'})\n",
    "    # if there is external link to the article, find the external link to the article\n",
    "    if(icons_portlet):\n",
    "        article_url = icons_portlet.find('a').attrs[0][1]\n",
    "        return(article_url)\n",
    "    else:\n",
    "        return(None)\n",
    "\n",
    "from pyspark.sql.types import StringType\n",
    "get_article_url_udf = udf(get_article_url, StringType())"
   ]
  },
  {
   "cell_type": "code",
   "execution_count": null,
   "metadata": {
    "collapsed": false
   },
   "outputs": [],
   "source": [
    "## Test the user defined function\n",
    "test_id = 28386842\n",
    "get_article_url(test_id)"
   ]
  },
  {
   "cell_type": "code",
   "execution_count": null,
   "metadata": {
    "collapsed": false
   },
   "outputs": [],
   "source": [
    "url_df = article_ids.select(get_article_url_udf(article_ids.id).alias('article-url'))\n",
    "url_df.show(5, truncate=False)"
   ]
  },
  {
   "cell_type": "code",
   "execution_count": null,
   "metadata": {
    "collapsed": true
   },
   "outputs": [],
   "source": []
  },
  {
   "cell_type": "code",
   "execution_count": null,
   "metadata": {
    "collapsed": true
   },
   "outputs": [],
   "source": []
  },
  {
   "cell_type": "code",
   "execution_count": null,
   "metadata": {
    "collapsed": true
   },
   "outputs": [],
   "source": []
  },
  {
   "cell_type": "code",
   "execution_count": null,
   "metadata": {
    "collapsed": true
   },
   "outputs": [],
   "source": []
  },
  {
   "cell_type": "code",
   "execution_count": null,
   "metadata": {
    "collapsed": true
   },
   "outputs": [],
   "source": []
  },
  {
   "cell_type": "code",
   "execution_count": null,
   "metadata": {
    "collapsed": true
   },
   "outputs": [],
   "source": []
  },
  {
   "cell_type": "code",
   "execution_count": null,
   "metadata": {
    "collapsed": true
   },
   "outputs": [],
   "source": []
  },
  {
   "cell_type": "code",
   "execution_count": null,
   "metadata": {
    "collapsed": true
   },
   "outputs": [],
   "source": []
  },
  {
   "cell_type": "code",
   "execution_count": null,
   "metadata": {
    "collapsed": true
   },
   "outputs": [],
   "source": []
  },
  {
   "cell_type": "code",
   "execution_count": null,
   "metadata": {
    "collapsed": true
   },
   "outputs": [],
   "source": []
  },
  {
   "cell_type": "code",
   "execution_count": null,
   "metadata": {
    "collapsed": true
   },
   "outputs": [],
   "source": []
  },
  {
   "cell_type": "code",
   "execution_count": null,
   "metadata": {
    "collapsed": true
   },
   "outputs": [],
   "source": []
  },
  {
   "cell_type": "code",
   "execution_count": null,
   "metadata": {
    "collapsed": true
   },
   "outputs": [],
   "source": []
  },
  {
   "cell_type": "markdown",
   "metadata": {},
   "source": [
    "# Get article abstract links from \"Full text links\""
   ]
  },
  {
   "cell_type": "code",
   "execution_count": 19,
   "metadata": {
    "collapsed": false
   },
   "outputs": [],
   "source": [
    "abstract_url_base = \"https://www.ncbi.nlm.nih.gov/pubmed/\"\n",
    "\n",
    "with open('article-urls.txt', 'w+') as my_file:\n",
    "    for ids in ids_root.iter('IdList'):\n",
    "        for id in ids.iter('Id'):\n",
    "            # build the full pubmed url\n",
    "            url = abstract_url_base + id.text.encode('utf-8')\n",
    "            source_page = urllib2.urlopen(url)\n",
    "            source_page_soup = BeautifulSoup(source_page)\n",
    "            body = source_page_soup.body\n",
    "            icons_portlet = body.find('div', attrs={'class': 'icons portlet'})\n",
    "            # if there is external link to the article, find the external link to the article\n",
    "            if(icons_portlet):\n",
    "                article_url = icons_portlet.find('a').attrs[0][1]\n",
    "                #print(article_url)\n",
    "                my_file.write(article_url + '\\n')"
   ]
  },
  {
   "cell_type": "code",
   "execution_count": 77,
   "metadata": {
    "collapsed": false
   },
   "outputs": [
    {
     "data": {
      "text/plain": [
       "u'https://linkinghub.elsevier.com/retrieve/pii/S0168-0102(08)00148-X'"
      ]
     },
     "execution_count": 77,
     "metadata": {},
     "output_type": "execute_result"
    }
   ],
   "source": [
    "soup.body.find('div', attrs={'class': 'icons portlet'}).find('a').attrs[0][1]"
   ]
  },
  {
   "cell_type": "code",
   "execution_count": null,
   "metadata": {
    "collapsed": true
   },
   "outputs": [],
   "source": []
  },
  {
   "cell_type": "code",
   "execution_count": null,
   "metadata": {
    "collapsed": true
   },
   "outputs": [],
   "source": []
  },
  {
   "cell_type": "code",
   "execution_count": null,
   "metadata": {
    "collapsed": true
   },
   "outputs": [],
   "source": []
  },
  {
   "cell_type": "code",
   "execution_count": 34,
   "metadata": {
    "collapsed": false
   },
   "outputs": [],
   "source": [
    "import xml.etree.ElementTree as ET\n",
    "tree = ET.parse('pmc4304705.xml')"
   ]
  },
  {
   "cell_type": "code",
   "execution_count": 35,
   "metadata": {
    "collapsed": true
   },
   "outputs": [],
   "source": [
    "root = tree.getroot()"
   ]
  },
  {
   "cell_type": "markdown",
   "metadata": {},
   "source": [
    "## Get article content"
   ]
  },
  {
   "cell_type": "code",
   "execution_count": 36,
   "metadata": {
    "collapsed": false
   },
   "outputs": [],
   "source": [
    "with open('pmc4304705.txt', 'w+') as my_file:\n",
    "    for abstract in root.iter('abstract'):\n",
    "        for p in abstract.iter('p'):\n",
    "            my_file.write(p.text + ' ')\n",
    "    for body in root.iter('body'):\n",
    "        for p in body.iter('p'):\n",
    "            my_file.write(p.text.encode(\"utf-8\") + ' ')"
   ]
  },
  {
   "cell_type": "code",
   "execution_count": null,
   "metadata": {
    "collapsed": true
   },
   "outputs": [],
   "source": []
  }
 ],
 "metadata": {
  "anaconda-cloud": {},
  "kernelspec": {
   "display_name": "Python [Root]",
   "language": "python",
   "name": "Python [Root]"
  },
  "language_info": {
   "codemirror_mode": {
    "name": "ipython",
    "version": 2
   },
   "file_extension": ".py",
   "mimetype": "text/x-python",
   "name": "python",
   "nbconvert_exporter": "python",
   "pygments_lexer": "ipython2",
   "version": "2.7.13"
  }
 },
 "nbformat": 4,
 "nbformat_minor": 2
}
