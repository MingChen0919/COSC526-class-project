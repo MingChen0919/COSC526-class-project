{
 "cells": [
  {
   "cell_type": "code",
   "execution_count": 2,
   "metadata": {
    "collapsed": false
   },
   "outputs": [],
   "source": [
    "import xml.etree.ElementTree\n",
    "e = xml.etree.ElementTree.parse('pmc4304705.xml').getroot()\n",
    "import xml.etree.ElementTree as ET\n",
    "tree = ET.parse('pmc4304705.xml')"
   ]
  },
  {
   "cell_type": "code",
   "execution_count": 3,
   "metadata": {
    "collapsed": true
   },
   "outputs": [],
   "source": [
    "root = tree.getroot()"
   ]
  },
  {
   "cell_type": "markdown",
   "metadata": {},
   "source": [
    "## Get abstract content"
   ]
  },
  {
   "cell_type": "code",
   "execution_count": 8,
   "metadata": {
    "collapsed": false
   },
   "outputs": [],
   "source": [
    "with open('pmc4304705.txt', 'w+') as my_file:\n",
    "    for abstract in root.iter('abstract'):\n",
    "        for p in abstract.iter('p'):\n",
    "            my_file.write(p.text+' ')"
   ]
  },
  {
   "cell_type": "markdown",
   "metadata": {},
   "source": [
    "## Get body content"
   ]
  },
  {
   "cell_type": "code",
   "execution_count": 5,
   "metadata": {
    "collapsed": false
   },
   "outputs": [],
   "source": [
    "for body in root.iter('body'):\n",
    "    for p in body.iter('p'):\n",
    "        type(p.text),\"\\n\""
   ]
  },
  {
   "cell_type": "code",
   "execution_count": 78,
   "metadata": {
    "collapsed": false
   },
   "outputs": [
    {
     "name": "stdout",
     "output_type": "stream",
     "text": [
      "None \n",
      "\n",
      "Conceived and designed the experiments: RXH JAH. Performed the experiments: RXH JAH. Analyzed the data: RXH JAH. Contributed reagents/materials/analysis tools: RXH YYD JAH. Wrote the paper: RXH JAH. \n",
      "\n",
      "Increasing laboratory findings indicate that n-3 fatty acids, mainly derived from fish, inhibit cancer development and progression, but results from epidemiologic studies have been inconsistent and inconclusive. \n",
      "\n",
      "To evaluate the association of fish intake with risk of liver cancer by conducting a meta-analysis. \n",
      "\n",
      "Published case-control/cohort studies that evaluated the relationship between total fish intake and risk of liver cancer were found on PubMed and EMBASE. The pooled relative risks (RRs) with 95% confidence intervals (CIs) were obtained with the random-effects model. \n",
      "\n",
      "Five retrospective case-control studies and 5 prospective cohort studies were included in the final analysis, involving a total of 3 624 liver cancer cases. Comparing the highest with the lowest category of total fish intake, the pooled RRs of liver cancer were 0.79 (95% CI, 0.59-1.06) for case-control studies, 0.82 (95% CI, 0.70-0.96) for cohort studies and 0.82 (95% CI, 0.71-0.94) for all studies combined. The protective effects of total fish intake against liver cancer were confirmed by stratified and sensitivity analyses. In addition, an increase in fish intake of 1 serving/week was estimated to be significantly associated with 6% lower risk of liver cancer (RR = 0.94, 95% CI, 0.91-0.98). \n",
      "\n",
      "Findings from this meta-analysis suggest that a higher fish intake is associated with reduced risk of liver cancer. \n",
      "\n",
      "Liver cancer is the sixth most frequently diagnosed cancer and the third most common cause of cancer-related death worldwide, with about 564 000 new cases occurred each year [ \n",
      "\n",
      "Fish is a rich source of n-3 polyunsaturated fatty acid (n-3 PUFA). In a previous review addressing potential mechanisms where by n-3 PUFAs may affect cancer risk, Larsson  \n",
      "\n",
      "We searched for potentially relevant publications through December, 2013 on PubMed and EMBASE databases using the search terms “fish” in combination with “liver cancer” or “hepatocellular carcinoma” or “liver neoplasm”, without language restrictions. The reference lists of retrieved publications were also carefully reviewed for any further studies. \n",
      "\n",
      "Studies were eligible for inclusion if they met the following inclusion criteria: (1) study design was case-control or cohort; (2) exposure of interest was total fish intake; (3) outcome was incidence or mortality of liver cancer; and (4) relative risks (RRs) or odds ratios (ORs) with corresponding 95% confidence intervals (CIs) were reported (or could be estimated). Studies that investigated the effect of specific type of fish or fish prepared/cooked with specific methods (i.e., raw fish, salted fish or broiled fish) were excluded. The titles and abstracts of all potentially relevant publications were reviewed to evaluate the relevance of the information; full-texts were scrutinized if any potentially relevant information was identified in a retrieved abstract. \n",
      "\n",
      "The following data were extracted from each included eligible study using a standardized data-collection protocol: the first author’s last name, publication year, country of origin, study design, number of cases and subjects, outcomes (incidence or mortality), ascertainment of exposure and outcome, levels of fish intake, RR or OR estimates with corresponding 95% CIs for each category of fish intake and variables controlled for in the analysis. Literature search, study selection and data abstraction were performed independently by two investigators, with any disagreements resolved by discussions. \n",
      "\n",
      "RR with 95% CI is the measure of effect of interest in this meta-analysis, and ORs in the included case-control studies were considered as RR approximations because the risk of liver cancer is sufficiently low. Where possible, the risk estimates with adjustment for multivariables were used. The study by La Vecchia  \n",
      "\n",
      "A dose-response analysis was performed according to the method proposed by Greenland and Longnecker [ \n",
      "\n",
      "Statistical heterogeneity was assessed using Q and  \n",
      "\n",
      "The flow chart of literature search is shown in  \n",
      "\n",
      "The 10 studies, including 5 retrospective case-control studies (all except for 1 study[ \n",
      "\n",
      "The RRs for liver cancer with different fish intake categories relative to the lowest category are shown in  \n",
      "\n",
      "RRs of greater than 1 represent increased risk of liver cancer associated with higher fish intake, and RRs of less than 1 represent decreased risk. \n",
      "\n",
      "Stratifying the analysis by study design, the summary RR was 0.79 (95% CI, 0.59–1.06) for case-control studies and 0.82 (95% CI, 0.70–0.96) for cohort studies. According to geographic area, the summary RR was 0.81 (95% CI, 0.68–0.98) for 4 Asian studies and 0.77 (95% CI, 0.56–1.06) for 5 European studies. By the number of liver cancer cases, the pooled RR was 0.76 (95%CI, 0.56–1.04) for 5 studies with cases of ＜300 and 0.84 (0.72–0.97) for 5 studies with≥300 cases. The summary RR for liver cancer incidence was 0.81 (95% CI, 0.64–1.01) and for cancer mortality was 0.85 (0.70–1.04). A sensitivity analysis conducted by excluding one study at each turn and pooling results from the remainder showed that the summary RR ranged from 0.79 (95%CI, 0.69–0.91) to 0.84 (95%CI, 0.73–0.96), indicating that our findings were not sensitive to any individual studies. \n",
      "\n",
      "The hospital based case-control study by Kanazir  \n",
      "\n",
      "Seven studies [ \n",
      "\n",
      "There was a suggestion of publication bias according to Egger’s test ( \n",
      "\n",
      "In this meta-analysis of published case-control and cohort studies, we found a statistically significant inverse association between total fish intake and risk of liver cancer. Analyses of high vs. low intake and dose- response models indicated that liver cancer risk was reduced by 18% and 6% per 1 serving/week increase, respectively. \n",
      "\n",
      "The exact mechanisms whereby fish intake reduces risk of liver cancer are not well-established. Nevertheless, fish is a rich source of n-3 PUFA, which may be of anti-carcinogenic and anti-inflammatory properties [ \n",
      "\n",
      "We were not able to clarify the effects of specific fish on liver cancer development because the findings were considerably heterogeneous ( \n",
      "\n",
      "We had also attempted to investigate whether the association between fish intake and risk of liver cancer was confounded or varied by status of hepatitis viruses. However, few data were available addressing this issue. One hospital based case-control study [ \n",
      "\n",
      "Possible biases from case-control studies, such as selection bias and recall bias are of concern. However, the rate of declining participation in cases and subjects were generally low (i.e.＜3% [ \n",
      "\n",
      "A further important consideration is the potential publication bias. It is well known that positive results have a greater chance of being published, whereas small studies with null findings tend not to be reported. Two commonly applied tests to access publication bias are Begg’s and Egger’s tests. In an overall meta-analysis of case-control and cohort studies, there was a suggestion of publication bias with Egger’s test (though not significant). However, the test may be of low statistical power when the number of studies was relatively small[ \n",
      "\n",
      "Several limitations in this meta-analysis warrant mention. Residual or unknown confounding cannot completely be ruled out. Those subjects with higher fish intake may also be more likely to have favorable dietary patterns, healthier lifestyles, or both. Several included studies also did not control for a variety of potential risk factors for liver cancer, such as HBV/HCV, alcohol and coffee drinking, smoking and body mass index, etc. Second, the levels of fish intake among different populations, and the methods for assessing fish and identifying liver cases were largely inconsistent. However, there was little evidence of heterogeneity either in the high vs. low, or in the dose-response analyses. Finally, we only investigated total fish, and the effects of individual fish on liver cancer risk remains to be determined in future studies. The potential limitations for observational studies to access relationship between diet and health, and the difficulty in conducting prospective studies properly accounting for multiple risk factors for liver cancer were also well addressed in the editorial by Freedman and Marrero[ \n",
      "\n",
      "In sum, findings from this meta-analysis of published case-control and cohort studies suggest a significant inverse association between total fish intake and risk of liver cancer. Future well-designed prospective studies are needed to further confirm our findings. \n",
      "\n",
      "(DOC) \n",
      "\n",
      "Click here for additional data file. \n",
      "\n",
      "(DOCX) \n",
      "\n",
      "Click here for additional data file. \n",
      "\n",
      "(DOCX) \n",
      "\n",
      "Click here for additional data file. \n",
      "\n"
     ]
    }
   ],
   "source": [
    "for p in root.iter('p'):\n",
    "    print p.text,\"\\n\""
   ]
  },
  {
   "cell_type": "code",
   "execution_count": 39,
   "metadata": {
    "collapsed": false
   },
   "outputs": [
    {
     "name": "stdout",
     "output_type": "stream",
     "text": [
      "{'article-type': 'research-article'}\n"
     ]
    }
   ],
   "source": [
    "for abstract in root.iter('article'):\n",
    "    print abstract.attrib\n"
   ]
  },
  {
   "cell_type": "code",
   "execution_count": 65,
   "metadata": {
    "collapsed": false
   },
   "outputs": [
    {
     "data": {
      "text/plain": [
       "'Five retrospective case-control studies and 5 prospective cohort studies were included in the final analysis, involving a total of 3 624 liver cancer cases. Comparing the highest with the lowest category of total fish intake, the pooled RRs of liver cancer were 0.79 (95% CI, 0.59-1.06) for case-control studies, 0.82 (95% CI, 0.70-0.96) for cohort studies and 0.82 (95% CI, 0.71-0.94) for all studies combined. The protective effects of total fish intake against liver cancer were confirmed by stratified and sensitivity analyses. In addition, an increase in fish intake of 1 serving/week was estimated to be significantly associated with 6% lower risk of liver cancer (RR = 0.94, 95% CI, 0.91-0.98).'"
      ]
     },
     "execution_count": 65,
     "metadata": {},
     "output_type": "execute_result"
    }
   ],
   "source": [
    "root[0][0][1][19][3][1].text"
   ]
  },
  {
   "cell_type": "code",
   "execution_count": 4,
   "metadata": {
    "collapsed": false
   },
   "outputs": [
    {
     "data": {
      "text/plain": [
       "<pyspark.sql.context.SQLContext at 0x114127990>"
      ]
     },
     "execution_count": 4,
     "metadata": {},
     "output_type": "execute_result"
    }
   ],
   "source": [
    "sqlContext"
   ]
  },
  {
   "cell_type": "code",
   "execution_count": null,
   "metadata": {
    "collapsed": true
   },
   "outputs": [],
   "source": []
  }
 ],
 "metadata": {
  "anaconda-cloud": {},
  "kernelspec": {
   "display_name": "Python [Root]",
   "language": "python",
   "name": "Python [Root]"
  },
  "language_info": {
   "codemirror_mode": {
    "name": "ipython",
    "version": 2
   },
   "file_extension": ".py",
   "mimetype": "text/x-python",
   "name": "python",
   "nbconvert_exporter": "python",
   "pygments_lexer": "ipython2",
   "version": "2.7.13"
  }
 },
 "nbformat": 4,
 "nbformat_minor": 2
}
