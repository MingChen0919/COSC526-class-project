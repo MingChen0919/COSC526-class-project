{
 "cells": [
  {
   "cell_type": "code",
   "execution_count": 47,
   "metadata": {
    "collapsed": false
   },
   "outputs": [],
   "source": [
    "import xml.etree.ElementTree as ET\n",
    "import urllib2\n",
    "retmax = 1000 \n",
    "ids_page_url = \"https://eutils.ncbi.nlm.nih.gov/entrez/eutils/esearch.fcgi?db=pubmed&term=bcl2&retmax=\" + str(retmax)\n",
    "ids_xml_page = urllib2.urlopen(ids_page_url).read()\n",
    "\n",
    "ids_root = ET.fromstring(ids_xml_page)\n",
    "# write ids to article-ids.txt\n",
    "with open('raw_data/article-ids.txt', 'w+') as my_file:\n",
    "    for ids in ids_root.iter('IdList'):\n",
    "        for id in ids.iter('Id'):\n",
    "            my_file.write(id.text.encode('utf-8') + '\\n')"
   ]
  },
  {
   "cell_type": "code",
   "execution_count": 48,
   "metadata": {
    "collapsed": false
   },
   "outputs": [],
   "source": [
    "from bs4 import BeautifulSoup\n",
    "import re\n",
    "\n",
    "abstract_url_base = \"https://www.ncbi.nlm.nih.gov/pubmed/\"\n",
    "# write urls to article-urls.txt\n",
    "with open('raw_data/article-content.txt', 'w+') as my_file:\n",
    "    for ids in ids_root.iter('IdList'):\n",
    "        for id in ids.iter('Id'):\n",
    "            # build the full pubmed url\n",
    "            url = abstract_url_base + id.text.encode('utf-8')\n",
    "            html_content = urllib2.urlopen(url)\n",
    "            if(html_content):\n",
    "                soup = BeautifulSoup(html_content)\n",
    "                full_text_link = soup.find('a', attrs={'free_status': 'free'})\n",
    "                if(full_text_link):\n",
    "                    new_url = full_text_link.attrs['href']\n",
    "                    req = urllib2.Request(new_url, headers={'User-Agent' : \"Magic Browser\"})\n",
    "                    try:\n",
    "                        html_content = urllib2.urlopen(new_url)\n",
    "                        soup = BeautifulSoup(html_content)\n",
    "                        article = ''\n",
    "                        for p in soup.find_all('p'):\n",
    "                            article = article + p.text.encode('utf-8')\n",
    "                        article = article.replace('\\r', ' ').replace('\\n', ' ').lower()\n",
    "                        sentences = re.split(r'[\\.;]', article)\n",
    "                        for sentence in sentences:\n",
    "                            if 'bcl2' in sentence.split():\n",
    "                                my_file.write(id.text.encode('utf-8') + '\\t' + sentence + '\\n')\n",
    "                    except:\n",
    "                        pass"
   ]
  },
  {
   "cell_type": "code",
   "execution_count": null,
   "metadata": {
    "collapsed": true
   },
   "outputs": [],
   "source": []
  }
 ],
 "metadata": {
  "kernelspec": {
   "display_name": "Python [Root]",
   "language": "python",
   "name": "Python [Root]"
  },
  "language_info": {
   "codemirror_mode": {
    "name": "ipython",
    "version": 2
   },
   "file_extension": ".py",
   "mimetype": "text/x-python",
   "name": "python",
   "nbconvert_exporter": "python",
   "pygments_lexer": "ipython2",
   "version": "2.7.13"
  }
 },
 "nbformat": 4,
 "nbformat_minor": 2
}
