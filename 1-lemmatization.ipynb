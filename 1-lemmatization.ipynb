{
 "cells": [
  {
   "cell_type": "markdown",
   "metadata": {},
   "source": [
    "# Load 'bcl2' sentences data"
   ]
  },
  {
   "cell_type": "code",
   "execution_count": 2,
   "metadata": {
    "collapsed": false
   },
   "outputs": [],
   "source": [
    "bcl2 = spark.read.csv('raw_data/article-content.txt', sep='\\t', inferSchema=True).toDF('id', 'sentences')"
   ]
  },
  {
   "cell_type": "code",
   "execution_count": 4,
   "metadata": {
    "collapsed": false
   },
   "outputs": [
    {
     "name": "stdout",
     "output_type": "stream",
     "text": [
      "+--------+--------------------+\n",
      "|      id|           sentences|\n",
      "+--------+--------------------+\n",
      "|28386116| we experimentall...|\n",
      "|28386116| to evaluate the ...|\n",
      "|28386116|it has been well ...|\n",
      "|28386116| our bioinformati...|\n",
      "|28386116| it has been prev...|\n",
      "+--------+--------------------+\n",
      "only showing top 5 rows\n",
      "\n"
     ]
    }
   ],
   "source": [
    "bcl2.show(5)"
   ]
  },
  {
   "cell_type": "markdown",
   "metadata": {},
   "source": [
    "# Lemmatizing words"
   ]
  },
  {
   "cell_type": "code",
   "execution_count": 5,
   "metadata": {
    "collapsed": true
   },
   "outputs": [],
   "source": [
    "from pyspark.sql.functions import udf\n",
    "from pyspark.sql.types import *"
   ]
  },
  {
   "cell_type": "code",
   "execution_count": 8,
   "metadata": {
    "collapsed": false
   },
   "outputs": [],
   "source": [
    "from nltk.stem import WordNetLemmatizer\n",
    "wordnet_lemmatizer = WordNetLemmatizer()\n",
    "\n",
    "def lemmatizer(s):\n",
    "    words_list = [wordnet_lemmatizer.lemmatize(w) for w in s.split()]\n",
    "    return(words_list)\n",
    "lemmatizer_udf = udf(lemmatizer, ArrayType(StringType()))"
   ]
  },
  {
   "cell_type": "code",
   "execution_count": 11,
   "metadata": {
    "collapsed": false
   },
   "outputs": [
    {
     "name": "stdout",
     "output_type": "stream",
     "text": [
      "+--------+-------------------------------------------------------------------------------------------------------------------------------------------------------------------------------------------------------------------------------------------------------------------------------------------------------------------------------------------------------------------------------+\n",
      "|id      |lemm_words                                                                                                                                                                                                                                                                                                                                                                     |\n",
      "+--------+-------------------------------------------------------------------------------------------------------------------------------------------------------------------------------------------------------------------------------------------------------------------------------------------------------------------------------------------------------------------------------+\n",
      "|28386116|[we, experimentally, validated, the, effect, of, destabilising, mutation, in, the, 5′, utrs, of, bcl2, and, cxcl14, and, one, stabilising, mutation, in, the, 5′, utr, of, taok2]                                                                                                                                                                                              |\n",
      "|28386116|[to, evaluate, the, accuracy, of, the, in, silico, results,, one, stabilising, mutation, in, the, 5′, utr, of, taok2, (tao, kinase, 2),, one, destabilising, mutation, in, the, 5′, utr, of, bcl2, (b-cell, lymphoma, 2), and, two, adjacent, destabilising, mutation, in, the, 5′, utr, of, cxcl14, (c-x-c, motif, ligand, 14), were, selected, for, experimental, validation]|\n",
      "|28386116|[it, ha, been, well, demonstrated, that, the, over-expression, of, bcl2, proto-oncogene, contributes, to, the, resistance, of, cancer, cell, to, apoptosis27]                                                                                                                                                                                                                  |\n",
      "|28386116|[our, bioinformatics, analysis, identified, a, guanine, to, adenine, point, mutation, in, a, patient, with, malignant, lymphoma,, which, wa, predicted, to, destabilise, the, rna, g4, in, the, 5′, utr, of, bcl2, (supplementary, table, 2)]                                                                                                                                  |\n",
      "|28386116|[it, ha, been, previously, shown, that, the, bcl2, rna, g4, is, very, stable, near, physiological, ionic, and, ph, condition, and, act, a, a, translational, repressor, in, the, 5′, utr, of, the, bcl2, proto-oncogene28]                                                                                                                                                     |\n",
      "+--------+-------------------------------------------------------------------------------------------------------------------------------------------------------------------------------------------------------------------------------------------------------------------------------------------------------------------------------------------------------------------------------+\n",
      "only showing top 5 rows\n",
      "\n"
     ]
    }
   ],
   "source": [
    "bcl2_lemm = bcl2.select(bcl2.id, lemmatizer_udf(bcl2.sentences).alias('lemm_words'))\n",
    "bcl2_lemm.show(5, truncate=False)"
   ]
  },
  {
   "cell_type": "code",
   "execution_count": null,
   "metadata": {
    "collapsed": true
   },
   "outputs": [],
   "source": []
  }
 ],
 "metadata": {
  "anaconda-cloud": {},
  "kernelspec": {
   "display_name": "Python [Root]",
   "language": "python",
   "name": "Python [Root]"
  }
 },
 "nbformat": 4,
 "nbformat_minor": 2
}
