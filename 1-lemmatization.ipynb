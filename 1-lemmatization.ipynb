{
 "cells": [
  {
   "cell_type": "markdown",
   "metadata": {},
   "source": [
    "# Load 'bcl2' sentences data"
   ]
  },
  {
   "cell_type": "code",
   "execution_count": 1,
   "metadata": {
    "collapsed": false
   },
   "outputs": [],
   "source": [
    "bcl2 = spark.read.csv('raw_data/article-content.txt', sep='\\t', inferSchema=True).toDF('id', 'sentences')"
   ]
  },
  {
   "cell_type": "code",
   "execution_count": 2,
   "metadata": {
    "collapsed": false
   },
   "outputs": [
    {
     "name": "stdout",
     "output_type": "stream",
     "text": [
      "+--------+--------------------+\n",
      "|      id|           sentences|\n",
      "+--------+--------------------+\n",
      "|28386116| we experimentall...|\n",
      "|28386116| to evaluate the ...|\n",
      "|28386116|it has been well ...|\n",
      "|28386116| our bioinformati...|\n",
      "|28386116| it has been prev...|\n",
      "+--------+--------------------+\n",
      "only showing top 5 rows\n",
      "\n"
     ]
    }
   ],
   "source": [
    "bcl2.show(5)"
   ]
  },
  {
   "cell_type": "markdown",
   "metadata": {},
   "source": [
    "# Lemmatizing words"
   ]
  },
  {
   "cell_type": "code",
   "execution_count": 3,
   "metadata": {
    "collapsed": true
   },
   "outputs": [],
   "source": [
    "from pyspark.sql.functions import udf\n",
    "from pyspark.sql.types import *"
   ]
  },
  {
   "cell_type": "code",
   "execution_count": 48,
   "metadata": {
    "collapsed": false
   },
   "outputs": [],
   "source": [
    "from nltk.stem import WordNetLemmatizer\n",
    "wordnet_lemmatizer = WordNetLemmatizer()\n",
    "\n",
    "def lemmatizer(s):\n",
    "    words_list = [wordnet_lemmatizer.lemmatize(w, 'v') for w in s.split()]\n",
    "    return(words_list)\n",
    "lemmatizer_udf = udf(lemmatizer, ArrayType(StringType()))"
   ]
  },
  {
   "cell_type": "code",
   "execution_count": 115,
   "metadata": {
    "collapsed": false
   },
   "outputs": [
    {
     "data": {
      "text/plain": [
       "[u'the',\n",
       " u'cell',\n",
       " u'fate',\n",
       " u'decision',\n",
       " u'on',\n",
       " u'tna-nanoenvironment',\n",
       " u'have',\n",
       " u'be',\n",
       " u'report',\n",
       " u'to',\n",
       " u'possibly',\n",
       " u'regulate',\n",
       " u'proliferative',\n",
       " u'activities',\n",
       " u'via',\n",
       " u'expression',\n",
       " u'of',\n",
       " u'p27',\n",
       " u'and',\n",
       " u'bcl2',\n",
       " u'tumor',\n",
       " u'suppressor',\n",
       " u'proteins,',\n",
       " u'cogent',\n",
       " u'with',\n",
       " u'skp2',\n",
       " u'and',\n",
       " u'bcl2',\n",
       " u'oncogenic',\n",
       " u'proteins',\n",
       " u'suppression']"
      ]
     },
     "execution_count": 115,
     "metadata": {},
     "output_type": "execute_result"
    }
   ],
   "source": [
    "bcl2_lemm = bcl2.select(bcl2.id, bcl2.sentences, lemmatizer_udf(bcl2.sentences).alias('lemm_words'))\n",
    "pd_df = bcl2_lemm.toPandas()\n",
    "pd_df.iloc[155, ]['lemm_words']"
   ]
  },
  {
   "cell_type": "markdown",
   "metadata": {
    "collapsed": true
   },
   "source": [
    "# Load gene regulation vocabulary"
   ]
  },
  {
   "cell_type": "code",
   "execution_count": null,
   "metadata": {
    "collapsed": true
   },
   "outputs": [],
   "source": []
  },
  {
   "cell_type": "code",
   "execution_count": 116,
   "metadata": {
    "collapsed": false
   },
   "outputs": [],
   "source": [
    "import pandas as pd"
   ]
  },
  {
   "cell_type": "code",
   "execution_count": 117,
   "metadata": {
    "collapsed": false
   },
   "outputs": [],
   "source": [
    "gr_df = pd.read_csv('raw_data/bcl2_regulation_vocab.csv', names=['word'])"
   ]
  },
  {
   "cell_type": "code",
   "execution_count": 118,
   "metadata": {
    "collapsed": false
   },
   "outputs": [],
   "source": [
    "gr_lemm_words = [wordnet_lemmatizer.lemmatize(w, 'v') for w in gr_df['word'] ]"
   ]
  },
  {
   "cell_type": "code",
   "execution_count": null,
   "metadata": {
    "collapsed": false
   },
   "outputs": [],
   "source": []
  },
  {
   "cell_type": "markdown",
   "metadata": {},
   "source": [
    "# Filter sentences that has 'bcl2' and any words from the `gr_lemm_words` list"
   ]
  },
  {
   "cell_type": "code",
   "execution_count": 119,
   "metadata": {
    "collapsed": true
   },
   "outputs": [],
   "source": [
    "from pyspark.sql.functions import udf"
   ]
  },
  {
   "cell_type": "code",
   "execution_count": 120,
   "metadata": {
    "collapsed": true
   },
   "outputs": [],
   "source": [
    "def filter_sentences(l):\n",
    "    set0 = set(gr_lemm_words)\n",
    "    set1 = set(l)\n",
    "    common_words = list(set0.intersection(set1))\n",
    "    if len(common_words) > 0:\n",
    "        return(common_words)\n",
    "    else:\n",
    "        return(None)\n",
    "filter_sentences_udf = udf(filter_sentences, ArrayType(StringType()))"
   ]
  },
  {
   "cell_type": "code",
   "execution_count": 121,
   "metadata": {
    "collapsed": false
   },
   "outputs": [],
   "source": [
    "bcl2_regulation_df = bcl2_lemm.select(bcl2_lemm.id, bcl2_lemm.sentences, filter_sentences_udf(bcl2_lemm.lemm_words).alias('filter_sentence'))"
   ]
  },
  {
   "cell_type": "code",
   "execution_count": 123,
   "metadata": {
    "collapsed": false
   },
   "outputs": [],
   "source": [
    "bcl2_regulation_df = bcl2_regulation_df.filter(bcl2_regulation_df.filter_sentence.isNotNull() )"
   ]
  },
  {
   "cell_type": "code",
   "execution_count": 124,
   "metadata": {
    "collapsed": false
   },
   "outputs": [
    {
     "name": "stdout",
     "output_type": "stream",
     "text": [
      "+--------+-------------------------------------------------------------------------------------------------------------------------------------------------------------------------------------------------------------------------------------------------------------------------------------------------------------------------------------------+---------------------------------------------+\n",
      "|id      |sentences                                                                                                                                                                                                                                                                                                                                  |filter_sentence                              |\n",
      "+--------+-------------------------------------------------------------------------------------------------------------------------------------------------------------------------------------------------------------------------------------------------------------------------------------------------------------------------------------------+---------------------------------------------+\n",
      "|28386116| compared to the wild-type, a guanine to adenine point mutation in the 5′ utr of bcl2 resulted in a significant increase in translation efficiency (p < 0                                                                                                                                                                                  |[increase]                                   |\n",
      "|28386116| many examples exist where the expression of bcl2 is elevated in human malignancies, particularly lymphomas                                                                                                                                                                                                                                |[elevate]                                    |\n",
      "|28386116| several mechanisms contribute to the overexpression of bcl2, including chromosomal translocations and loss of endogenous micrornas that repress bcl2 expression37                                                                                                                                                                         |[overexpression]                             |\n",
      "|28386116| we observed ~75% increase in the gene expression at the protein level for the bcl2 g4-mutant construct, whereas there is not a significant difference in the gene expression at the mrna level between the bcl2 g4-mutant and wild-type constructs                                                                                        |[increase]                                   |\n",
      "|28382141| however, the expression status, clinical and prognostic effect of combined overexpression of myc and bcl2 in extranodal nk/t-cell lymphoma, nasal type (enktl) are not known                                                                                                                                                              |[overexpression]                             |\n",
      "|28382141| enktl, an ebv-associated lymphoma, is featured by overexpression of latent membrane protein-1 (lmp-1)[16], which has been demonstrated to be able to induce the expression of both myc and bcl2                                                                                                                                           |[overexpression, induce]                     |\n",
      "|28382141| however, the expression status, clinical and prognostic effect of combined overexpression of myc and bcl2 in enktl are not known                                                                                                                                                                                                          |[overexpression]                             |\n",
      "|28382141|as yet, it was known that lmp-1 can exert anti-apoptotic activity and promote proliferation by up-regulation of the expression of bcl2 and myc[23]                                                                                                                                                                                         |[promote]                                    |\n",
      "|28382141|bcl2 is a central anti-apoptotic gene, and the overexpression has been found to be a marker of poor prognosis in several studies[24]                                                                                                                                                                                                       |[overexpression]                             |\n",
      "|28382141| using nk-92 cell line (weak expression of lmp-1), we demonstrated increased expression of both myc and bcl2 after transfection of lmp-1 into nk-92 cell line (supplement figure 1), which supported our hypothesis that ebv infection could induce expression of myc and bcl2 independent of gene translocations                          |[increase, induce]                           |\n",
      "|28382095| the bcl2 protein, encoded by the bcl2 gene, is the founding member of the bcl2 family of regulator proteins that regulate cell death (apoptosis), by either inducing (proapoptotic) or inhibiting (antiapoptotic) apoptosis                                                                                                               |[death, inhibit, regulate, induce, apoptosis]|\n",
      "|28382095| bcl2 is the key antiapoptotic protein and its gene is thus classified as an oncogene in general [2]                                                                                                                                                                                                                                       |[oncogene]                                   |\n",
      "|28382095| [13] reported that high bcl2 expression is associated with a number of good prognostic factors and is independently associated with a better clinical outcome for patients with lymph node-positive breast carcinoma                                                                                                                      |[associate]                                  |\n",
      "|28382095|prognostic influence of bcl2 according to stage of breast cancerwe found that the prognostic influence of bcl2 was associated with the stage of breast cancer                                                                                                                                                                              |[associate]                                  |\n",
      "|28382095| the prognostic effect of bcl2 increased as the stage of breast cancer advanced (figure 3)                                                                                                                                                                                                                                                 |[increase]                                   |\n",
      "|28382095| [27] reported that negative bcl2 expression was associated with increased risk of death and recurrence in tnbc                                                                                                                                                                                                                            |[increase, death, associate]                 |\n",
      "|28382095| [29] reported that although bcl2 expression was not associated with any clinicopathologic parameters and did not affect patient survival in tnbc, bcl2 expression showed a significant association with worse os and disease free survival in the nonbasal (claudin-low                                                                   |[associate]                                  |\n",
      "|28382095| [30] reported that high bcl2 expression is a significant independent predictor of poor outcomes in tnbc patients treated with anthracycline-based adjuvant chemotherapy, and high egfr protein expression is associated with poor bcss in patients with tnbc treated with anthracycline-based chemotherapy, especially in basal-like (core|[associate]                                  |\n",
      "|28369145| two of the control enzymes are bcl2, which inhibits apoptosis and bax, which induces apoptosis and overrides bcl2 inhibition                                                                                                                                                                                                              |[apoptosis, inhibit, induce]                 |\n",
      "|28369145| albicans or go-peg increased the ratio of bax and bcl2 proteins (fig 2f)                                                                                                                                                                                                                                                                  |[increase]                                   |\n",
      "+--------+-------------------------------------------------------------------------------------------------------------------------------------------------------------------------------------------------------------------------------------------------------------------------------------------------------------------------------------------+---------------------------------------------+\n",
      "only showing top 20 rows\n",
      "\n"
     ]
    }
   ],
   "source": [
    "bcl2_regulation_df.show(truncate=False)"
   ]
  },
  {
   "cell_type": "code",
   "execution_count": null,
   "metadata": {
    "collapsed": false
   },
   "outputs": [],
   "source": []
  },
  {
   "cell_type": "code",
   "execution_count": null,
   "metadata": {
    "collapsed": false
   },
   "outputs": [],
   "source": []
  },
  {
   "cell_type": "code",
   "execution_count": null,
   "metadata": {
    "collapsed": false
   },
   "outputs": [],
   "source": []
  },
  {
   "cell_type": "code",
   "execution_count": 66,
   "metadata": {
    "collapsed": false
   },
   "outputs": [],
   "source": []
  },
  {
   "cell_type": "code",
   "execution_count": null,
   "metadata": {
    "collapsed": false
   },
   "outputs": [],
   "source": []
  },
  {
   "cell_type": "code",
   "execution_count": null,
   "metadata": {
    "collapsed": true
   },
   "outputs": [],
   "source": []
  }
 ],
 "metadata": {
  "anaconda-cloud": {},
  "kernelspec": {
   "display_name": "Python [Root]",
   "language": "python",
   "name": "Python [Root]"
  },
  "language_info": {
   "codemirror_mode": {
    "name": "ipython",
    "version": 2
   },
   "file_extension": ".py",
   "mimetype": "text/x-python",
   "name": "python",
   "nbconvert_exporter": "python",
   "pygments_lexer": "ipython2",
   "version": "2.7.13"
  }
 },
 "nbformat": 4,
 "nbformat_minor": 2
}
