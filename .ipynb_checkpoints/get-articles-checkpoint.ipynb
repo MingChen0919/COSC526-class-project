{
 "cells": [
  {
   "cell_type": "markdown",
   "metadata": {},
   "source": [
    "# Write article ids to a file"
   ]
  },
  {
   "cell_type": "code",
   "execution_count": 362,
   "metadata": {
    "collapsed": true
   },
   "outputs": [],
   "source": [
    "import xml.etree.ElementTree as ET\n",
    "import urllib2\n",
    "retmax = 1000 \n",
    "ids_page_url = \"https://eutils.ncbi.nlm.nih.gov/entrez/eutils/esearch.fcgi?db=pubmed&term=bcl2&retmax=\" + str(retmax)\n",
    "ids_xml_page = urllib2.urlopen(ids_page_url).read()\n",
    "\n",
    "ids_root = ET.fromstring(ids_xml_page)\n",
    "# write ids to article-ids.txt\n",
    "with open('raw_data/article-ids.txt', 'w+') as my_file:\n",
    "    for ids in ids_root.iter('IdList'):\n",
    "        for id in ids.iter('Id'):\n",
    "            my_file.write(id.text.encode('utf-8') + '\\n')"
   ]
  },
  {
   "cell_type": "markdown",
   "metadata": {},
   "source": [
    "# Get article urls (non-spark method)"
   ]
  },
  {
   "cell_type": "code",
   "execution_count": 365,
   "metadata": {
    "collapsed": false
   },
   "outputs": [],
   "source": [
    "from bs4 import BeautifulSoup\n",
    "\n",
    "abstract_url_base = \"https://www.ncbi.nlm.nih.gov/pubmed/\"\n",
    "# write urls to article-urls.txt\n",
    "with open('raw_data/article-urls.txt', 'w+') as my_file:\n",
    "    for ids in ids_root.iter('IdList'):\n",
    "        for id in ids.iter('Id'):\n",
    "            # build the full pubmed url\n",
    "            url = abstract_url_base + id.text.encode('utf-8')\n",
    "            html_content = urllib2.urlopen(url)\n",
    "            if(html_content):\n",
    "                soup = BeautifulSoup(html_content)\n",
    "                full_text_link = soup.find('a', attrs={'free_status': 'free'})\n",
    "                if(full_text_link):\n",
    "                    my_file.write(id.text.encode('utf-8') + '\\t' + full_text_link.attrs['href'] + '\\n')"
   ]
  },
  {
   "cell_type": "code",
   "execution_count": 345,
   "metadata": {
    "collapsed": false
   },
   "outputs": [],
   "source": [
    "#BeautifulSoup(urllib2.urlopen('https://www.ncbi.nlm.nih.gov/pubmed/28391633'))"
   ]
  },
  {
   "cell_type": "markdown",
   "metadata": {},
   "source": [
    "## Load article url data"
   ]
  },
  {
   "cell_type": "code",
   "execution_count": 366,
   "metadata": {
    "collapsed": false
   },
   "outputs": [],
   "source": [
    "article_urls = spark.read.csv('raw_data/article-urls.txt', sep='\\t', inferSchema=True).toDF('pubmed_id', 'url')"
   ]
  },
  {
   "cell_type": "code",
   "execution_count": 367,
   "metadata": {
    "collapsed": false
   },
   "outputs": [
    {
     "name": "stdout",
     "output_type": "stream",
     "text": [
      "+---------+---------------------------------------------------------------------+\n",
      "|pubmed_id|url                                                                  |\n",
      "+---------+---------------------------------------------------------------------+\n",
      "|28386377 |https://www.ncbi.nlm.nih.gov/pmc/articles/pmid/28386377/             |\n",
      "|28386116 |http://dx.doi.org/10.1038/s41598-017-00739-y                         |\n",
      "|28382141 |http://www.jcancer.org/v08p0793.htm                                  |\n",
      "|28382095 |https://ejbc.kr/DOIx.php?id=10.4048/jbc.2017.20.1.54                 |\n",
      "|28380464 |http://www.impactjournals.com/oncotarget/misc/linkedout.php?pii=16580|\n",
      "+---------+---------------------------------------------------------------------+\n",
      "only showing top 5 rows\n",
      "\n"
     ]
    }
   ],
   "source": [
    "article_urls.show(5, truncate=False)"
   ]
  },
  {
   "cell_type": "code",
   "execution_count": 389,
   "metadata": {
    "collapsed": false
   },
   "outputs": [],
   "source": [
    "def get_article_content(url):\n",
    "    req = urllib2.Request(url, headers={'User-Agent' : \"Magic Browser\"})\n",
    "#     html_content = urllib2.urlopen(req)\n",
    "    return(True)\n",
    "#     if(html_content):\n",
    "#         soup = BeautifulSoup(html_content)\n",
    "#         article = ''\n",
    "#         for p in soup.find_all('p'):\n",
    "#             article = article + p.text\n",
    "#         article = article.replace('\\r', ' ').replace('\\n', ' ')\n",
    "#         return(article)\n",
    "get_article_content_udf = udf(get_article_content, StringType())"
   ]
  },
  {
   "cell_type": "code",
   "execution_count": 390,
   "metadata": {
    "collapsed": false
   },
   "outputs": [],
   "source": [
    "articles = article_urls.select(article_urls.url, get_article_content_udf(article_urls.url).alias('article'))"
   ]
  },
  {
   "cell_type": "code",
   "execution_count": 391,
   "metadata": {
    "collapsed": false
   },
   "outputs": [
    {
     "ename": "Py4JJavaError",
     "evalue": "An error occurred while calling o1420.showString.\n: org.apache.spark.SparkException: Job aborted due to stage failure: Task 0 in stage 104.0 failed 1 times, most recent failure: Lost task 0.0 in stage 104.0 (TID 113, localhost, executor driver): org.apache.spark.api.python.PythonException: Traceback (most recent call last):\n  File \"/usr/local/Cellar/apache-spark/2.1.0/libexec/python/lib/pyspark.zip/pyspark/worker.py\", line 174, in main\n    process()\n  File \"/usr/local/Cellar/apache-spark/2.1.0/libexec/python/lib/pyspark.zip/pyspark/worker.py\", line 169, in process\n    serializer.dump_stream(func(split_index, iterator), outfile)\n  File \"/usr/local/Cellar/apache-spark/2.1.0/libexec/python/lib/pyspark.zip/pyspark/worker.py\", line 106, in <lambda>\n    func = lambda _, it: map(mapper, it)\n  File \"/usr/local/Cellar/apache-spark/2.1.0/libexec/python/lib/pyspark.zip/pyspark/worker.py\", line 92, in <lambda>\n    mapper = lambda a: udf(*a)\n  File \"/usr/local/Cellar/apache-spark/2.1.0/libexec/python/lib/pyspark.zip/pyspark/worker.py\", line 70, in <lambda>\n    return lambda *a: f(*a)\n  File \"<ipython-input-389-133c4338215d>\", line 3, in get_article_content\n  File \"/Users/mingchen/anaconda2/lib/python2.7/urllib2.py\", line 154, in urlopen\n    return opener.open(url, data, timeout)\n  File \"/Users/mingchen/anaconda2/lib/python2.7/urllib2.py\", line 435, in open\n    response = meth(req, response)\n  File \"/Users/mingchen/anaconda2/lib/python2.7/urllib2.py\", line 548, in http_response\n    'http', request, response, code, msg, hdrs)\n  File \"/Users/mingchen/anaconda2/lib/python2.7/urllib2.py\", line 467, in error\n    result = self._call_chain(*args)\n  File \"/Users/mingchen/anaconda2/lib/python2.7/urllib2.py\", line 407, in _call_chain\n    result = func(*args)\n  File \"/Users/mingchen/anaconda2/lib/python2.7/urllib2.py\", line 654, in http_error_302\n    return self.parent.open(new, timeout=req.timeout)\n  File \"/Users/mingchen/anaconda2/lib/python2.7/urllib2.py\", line 435, in open\n    response = meth(req, response)\n  File \"/Users/mingchen/anaconda2/lib/python2.7/urllib2.py\", line 548, in http_response\n    'http', request, response, code, msg, hdrs)\n  File \"/Users/mingchen/anaconda2/lib/python2.7/urllib2.py\", line 467, in error\n    result = self._call_chain(*args)\n  File \"/Users/mingchen/anaconda2/lib/python2.7/urllib2.py\", line 407, in _call_chain\n    result = func(*args)\n  File \"/Users/mingchen/anaconda2/lib/python2.7/urllib2.py\", line 654, in http_error_302\n    return self.parent.open(new, timeout=req.timeout)\n  File \"/Users/mingchen/anaconda2/lib/python2.7/urllib2.py\", line 435, in open\n    response = meth(req, response)\n  File \"/Users/mingchen/anaconda2/lib/python2.7/urllib2.py\", line 548, in http_response\n    'http', request, response, code, msg, hdrs)\n  File \"/Users/mingchen/anaconda2/lib/python2.7/urllib2.py\", line 467, in error\n    result = self._call_chain(*args)\n  File \"/Users/mingchen/anaconda2/lib/python2.7/urllib2.py\", line 407, in _call_chain\n    result = func(*args)\n  File \"/Users/mingchen/anaconda2/lib/python2.7/urllib2.py\", line 654, in http_error_302\n    return self.parent.open(new, timeout=req.timeout)\n  File \"/Users/mingchen/anaconda2/lib/python2.7/urllib2.py\", line 435, in open\n    response = meth(req, response)\n  File \"/Users/mingchen/anaconda2/lib/python2.7/urllib2.py\", line 548, in http_response\n    'http', request, response, code, msg, hdrs)\n  File \"/Users/mingchen/anaconda2/lib/python2.7/urllib2.py\", line 467, in error\n    result = self._call_chain(*args)\n  File \"/Users/mingchen/anaconda2/lib/python2.7/urllib2.py\", line 407, in _call_chain\n    result = func(*args)\n  File \"/Users/mingchen/anaconda2/lib/python2.7/urllib2.py\", line 654, in http_error_302\n    return self.parent.open(new, timeout=req.timeout)\n  File \"/Users/mingchen/anaconda2/lib/python2.7/urllib2.py\", line 435, in open\n    response = meth(req, response)\n  File \"/Users/mingchen/anaconda2/lib/python2.7/urllib2.py\", line 548, in http_response\n    'http', request, response, code, msg, hdrs)\n  File \"/Users/mingchen/anaconda2/lib/python2.7/urllib2.py\", line 467, in error\n    result = self._call_chain(*args)\n  File \"/Users/mingchen/anaconda2/lib/python2.7/urllib2.py\", line 407, in _call_chain\n    result = func(*args)\n  File \"/Users/mingchen/anaconda2/lib/python2.7/urllib2.py\", line 654, in http_error_302\n    return self.parent.open(new, timeout=req.timeout)\n  File \"/Users/mingchen/anaconda2/lib/python2.7/urllib2.py\", line 435, in open\n    response = meth(req, response)\n  File \"/Users/mingchen/anaconda2/lib/python2.7/urllib2.py\", line 548, in http_response\n    'http', request, response, code, msg, hdrs)\n  File \"/Users/mingchen/anaconda2/lib/python2.7/urllib2.py\", line 467, in error\n    result = self._call_chain(*args)\n  File \"/Users/mingchen/anaconda2/lib/python2.7/urllib2.py\", line 407, in _call_chain\n    result = func(*args)\n  File \"/Users/mingchen/anaconda2/lib/python2.7/urllib2.py\", line 654, in http_error_302\n    return self.parent.open(new, timeout=req.timeout)\n  File \"/Users/mingchen/anaconda2/lib/python2.7/urllib2.py\", line 435, in open\n    response = meth(req, response)\n  File \"/Users/mingchen/anaconda2/lib/python2.7/urllib2.py\", line 548, in http_response\n    'http', request, response, code, msg, hdrs)\n  File \"/Users/mingchen/anaconda2/lib/python2.7/urllib2.py\", line 467, in error\n    result = self._call_chain(*args)\n  File \"/Users/mingchen/anaconda2/lib/python2.7/urllib2.py\", line 407, in _call_chain\n    result = func(*args)\n  File \"/Users/mingchen/anaconda2/lib/python2.7/urllib2.py\", line 654, in http_error_302\n    return self.parent.open(new, timeout=req.timeout)\n  File \"/Users/mingchen/anaconda2/lib/python2.7/urllib2.py\", line 435, in open\n    response = meth(req, response)\n  File \"/Users/mingchen/anaconda2/lib/python2.7/urllib2.py\", line 548, in http_response\n    'http', request, response, code, msg, hdrs)\n  File \"/Users/mingchen/anaconda2/lib/python2.7/urllib2.py\", line 467, in error\n    result = self._call_chain(*args)\n  File \"/Users/mingchen/anaconda2/lib/python2.7/urllib2.py\", line 407, in _call_chain\n    result = func(*args)\n  File \"/Users/mingchen/anaconda2/lib/python2.7/urllib2.py\", line 654, in http_error_302\n    return self.parent.open(new, timeout=req.timeout)\n  File \"/Users/mingchen/anaconda2/lib/python2.7/urllib2.py\", line 435, in open\n    response = meth(req, response)\n  File \"/Users/mingchen/anaconda2/lib/python2.7/urllib2.py\", line 548, in http_response\n    'http', request, response, code, msg, hdrs)\n  File \"/Users/mingchen/anaconda2/lib/python2.7/urllib2.py\", line 467, in error\n    result = self._call_chain(*args)\n  File \"/Users/mingchen/anaconda2/lib/python2.7/urllib2.py\", line 407, in _call_chain\n    result = func(*args)\n  File \"/Users/mingchen/anaconda2/lib/python2.7/urllib2.py\", line 644, in http_error_302\n    self.inf_msg + msg, headers, fp)\nHTTPError: HTTP Error 302: The HTTP server returned a redirect error that would lead to an infinite loop.\nThe last 30x error message was:\nFound\n\n\tat org.apache.spark.api.python.PythonRunner$$anon$1.read(PythonRDD.scala:193)\n\tat org.apache.spark.api.python.PythonRunner$$anon$1.<init>(PythonRDD.scala:234)\n\tat org.apache.spark.api.python.PythonRunner.compute(PythonRDD.scala:152)\n\tat org.apache.spark.sql.execution.python.BatchEvalPythonExec$$anonfun$doExecute$1.apply(BatchEvalPythonExec.scala:144)\n\tat org.apache.spark.sql.execution.python.BatchEvalPythonExec$$anonfun$doExecute$1.apply(BatchEvalPythonExec.scala:87)\n\tat org.apache.spark.rdd.RDD$$anonfun$mapPartitions$1$$anonfun$apply$23.apply(RDD.scala:796)\n\tat org.apache.spark.rdd.RDD$$anonfun$mapPartitions$1$$anonfun$apply$23.apply(RDD.scala:796)\n\tat org.apache.spark.rdd.MapPartitionsRDD.compute(MapPartitionsRDD.scala:38)\n\tat org.apache.spark.rdd.RDD.computeOrReadCheckpoint(RDD.scala:323)\n\tat org.apache.spark.rdd.RDD.iterator(RDD.scala:287)\n\tat org.apache.spark.rdd.MapPartitionsRDD.compute(MapPartitionsRDD.scala:38)\n\tat org.apache.spark.rdd.RDD.computeOrReadCheckpoint(RDD.scala:323)\n\tat org.apache.spark.rdd.RDD.iterator(RDD.scala:287)\n\tat org.apache.spark.rdd.MapPartitionsRDD.compute(MapPartitionsRDD.scala:38)\n\tat org.apache.spark.rdd.RDD.computeOrReadCheckpoint(RDD.scala:323)\n\tat org.apache.spark.rdd.RDD.iterator(RDD.scala:287)\n\tat org.apache.spark.scheduler.ResultTask.runTask(ResultTask.scala:87)\n\tat org.apache.spark.scheduler.Task.run(Task.scala:99)\n\tat org.apache.spark.executor.Executor$TaskRunner.run(Executor.scala:282)\n\tat java.util.concurrent.ThreadPoolExecutor.runWorker(ThreadPoolExecutor.java:1142)\n\tat java.util.concurrent.ThreadPoolExecutor$Worker.run(ThreadPoolExecutor.java:617)\n\tat java.lang.Thread.run(Thread.java:745)\n\nDriver stacktrace:\n\tat org.apache.spark.scheduler.DAGScheduler.org$apache$spark$scheduler$DAGScheduler$$failJobAndIndependentStages(DAGScheduler.scala:1435)\n\tat org.apache.spark.scheduler.DAGScheduler$$anonfun$abortStage$1.apply(DAGScheduler.scala:1423)\n\tat org.apache.spark.scheduler.DAGScheduler$$anonfun$abortStage$1.apply(DAGScheduler.scala:1422)\n\tat scala.collection.mutable.ResizableArray$class.foreach(ResizableArray.scala:59)\n\tat scala.collection.mutable.ArrayBuffer.foreach(ArrayBuffer.scala:48)\n\tat org.apache.spark.scheduler.DAGScheduler.abortStage(DAGScheduler.scala:1422)\n\tat org.apache.spark.scheduler.DAGScheduler$$anonfun$handleTaskSetFailed$1.apply(DAGScheduler.scala:802)\n\tat org.apache.spark.scheduler.DAGScheduler$$anonfun$handleTaskSetFailed$1.apply(DAGScheduler.scala:802)\n\tat scala.Option.foreach(Option.scala:257)\n\tat org.apache.spark.scheduler.DAGScheduler.handleTaskSetFailed(DAGScheduler.scala:802)\n\tat org.apache.spark.scheduler.DAGSchedulerEventProcessLoop.doOnReceive(DAGScheduler.scala:1650)\n\tat org.apache.spark.scheduler.DAGSchedulerEventProcessLoop.onReceive(DAGScheduler.scala:1605)\n\tat org.apache.spark.scheduler.DAGSchedulerEventProcessLoop.onReceive(DAGScheduler.scala:1594)\n\tat org.apache.spark.util.EventLoop$$anon$1.run(EventLoop.scala:48)\n\tat org.apache.spark.scheduler.DAGScheduler.runJob(DAGScheduler.scala:628)\n\tat org.apache.spark.SparkContext.runJob(SparkContext.scala:1918)\n\tat org.apache.spark.SparkContext.runJob(SparkContext.scala:1931)\n\tat org.apache.spark.SparkContext.runJob(SparkContext.scala:1944)\n\tat org.apache.spark.sql.execution.SparkPlan.executeTake(SparkPlan.scala:333)\n\tat org.apache.spark.sql.execution.CollectLimitExec.executeCollect(limit.scala:38)\n\tat org.apache.spark.sql.Dataset$$anonfun$org$apache$spark$sql$Dataset$$execute$1$1.apply(Dataset.scala:2371)\n\tat org.apache.spark.sql.execution.SQLExecution$.withNewExecutionId(SQLExecution.scala:57)\n\tat org.apache.spark.sql.Dataset.withNewExecutionId(Dataset.scala:2765)\n\tat org.apache.spark.sql.Dataset.org$apache$spark$sql$Dataset$$execute$1(Dataset.scala:2370)\n\tat org.apache.spark.sql.Dataset.org$apache$spark$sql$Dataset$$collect(Dataset.scala:2377)\n\tat org.apache.spark.sql.Dataset$$anonfun$head$1.apply(Dataset.scala:2113)\n\tat org.apache.spark.sql.Dataset$$anonfun$head$1.apply(Dataset.scala:2112)\n\tat org.apache.spark.sql.Dataset.withTypedCallback(Dataset.scala:2795)\n\tat org.apache.spark.sql.Dataset.head(Dataset.scala:2112)\n\tat org.apache.spark.sql.Dataset.take(Dataset.scala:2327)\n\tat org.apache.spark.sql.Dataset.showString(Dataset.scala:248)\n\tat sun.reflect.GeneratedMethodAccessor142.invoke(Unknown Source)\n\tat sun.reflect.DelegatingMethodAccessorImpl.invoke(DelegatingMethodAccessorImpl.java:43)\n\tat java.lang.reflect.Method.invoke(Method.java:497)\n\tat py4j.reflection.MethodInvoker.invoke(MethodInvoker.java:244)\n\tat py4j.reflection.ReflectionEngine.invoke(ReflectionEngine.java:357)\n\tat py4j.Gateway.invoke(Gateway.java:280)\n\tat py4j.commands.AbstractCommand.invokeMethod(AbstractCommand.java:132)\n\tat py4j.commands.CallCommand.execute(CallCommand.java:79)\n\tat py4j.GatewayConnection.run(GatewayConnection.java:214)\n\tat java.lang.Thread.run(Thread.java:745)\nCaused by: org.apache.spark.api.python.PythonException: Traceback (most recent call last):\n  File \"/usr/local/Cellar/apache-spark/2.1.0/libexec/python/lib/pyspark.zip/pyspark/worker.py\", line 174, in main\n    process()\n  File \"/usr/local/Cellar/apache-spark/2.1.0/libexec/python/lib/pyspark.zip/pyspark/worker.py\", line 169, in process\n    serializer.dump_stream(func(split_index, iterator), outfile)\n  File \"/usr/local/Cellar/apache-spark/2.1.0/libexec/python/lib/pyspark.zip/pyspark/worker.py\", line 106, in <lambda>\n    func = lambda _, it: map(mapper, it)\n  File \"/usr/local/Cellar/apache-spark/2.1.0/libexec/python/lib/pyspark.zip/pyspark/worker.py\", line 92, in <lambda>\n    mapper = lambda a: udf(*a)\n  File \"/usr/local/Cellar/apache-spark/2.1.0/libexec/python/lib/pyspark.zip/pyspark/worker.py\", line 70, in <lambda>\n    return lambda *a: f(*a)\n  File \"<ipython-input-389-133c4338215d>\", line 3, in get_article_content\n  File \"/Users/mingchen/anaconda2/lib/python2.7/urllib2.py\", line 154, in urlopen\n    return opener.open(url, data, timeout)\n  File \"/Users/mingchen/anaconda2/lib/python2.7/urllib2.py\", line 435, in open\n    response = meth(req, response)\n  File \"/Users/mingchen/anaconda2/lib/python2.7/urllib2.py\", line 548, in http_response\n    'http', request, response, code, msg, hdrs)\n  File \"/Users/mingchen/anaconda2/lib/python2.7/urllib2.py\", line 467, in error\n    result = self._call_chain(*args)\n  File \"/Users/mingchen/anaconda2/lib/python2.7/urllib2.py\", line 407, in _call_chain\n    result = func(*args)\n  File \"/Users/mingchen/anaconda2/lib/python2.7/urllib2.py\", line 654, in http_error_302\n    return self.parent.open(new, timeout=req.timeout)\n  File \"/Users/mingchen/anaconda2/lib/python2.7/urllib2.py\", line 435, in open\n    response = meth(req, response)\n  File \"/Users/mingchen/anaconda2/lib/python2.7/urllib2.py\", line 548, in http_response\n    'http', request, response, code, msg, hdrs)\n  File \"/Users/mingchen/anaconda2/lib/python2.7/urllib2.py\", line 467, in error\n    result = self._call_chain(*args)\n  File \"/Users/mingchen/anaconda2/lib/python2.7/urllib2.py\", line 407, in _call_chain\n    result = func(*args)\n  File \"/Users/mingchen/anaconda2/lib/python2.7/urllib2.py\", line 654, in http_error_302\n    return self.parent.open(new, timeout=req.timeout)\n  File \"/Users/mingchen/anaconda2/lib/python2.7/urllib2.py\", line 435, in open\n    response = meth(req, response)\n  File \"/Users/mingchen/anaconda2/lib/python2.7/urllib2.py\", line 548, in http_response\n    'http', request, response, code, msg, hdrs)\n  File \"/Users/mingchen/anaconda2/lib/python2.7/urllib2.py\", line 467, in error\n    result = self._call_chain(*args)\n  File \"/Users/mingchen/anaconda2/lib/python2.7/urllib2.py\", line 407, in _call_chain\n    result = func(*args)\n  File \"/Users/mingchen/anaconda2/lib/python2.7/urllib2.py\", line 654, in http_error_302\n    return self.parent.open(new, timeout=req.timeout)\n  File \"/Users/mingchen/anaconda2/lib/python2.7/urllib2.py\", line 435, in open\n    response = meth(req, response)\n  File \"/Users/mingchen/anaconda2/lib/python2.7/urllib2.py\", line 548, in http_response\n    'http', request, response, code, msg, hdrs)\n  File \"/Users/mingchen/anaconda2/lib/python2.7/urllib2.py\", line 467, in error\n    result = self._call_chain(*args)\n  File \"/Users/mingchen/anaconda2/lib/python2.7/urllib2.py\", line 407, in _call_chain\n    result = func(*args)\n  File \"/Users/mingchen/anaconda2/lib/python2.7/urllib2.py\", line 654, in http_error_302\n    return self.parent.open(new, timeout=req.timeout)\n  File \"/Users/mingchen/anaconda2/lib/python2.7/urllib2.py\", line 435, in open\n    response = meth(req, response)\n  File \"/Users/mingchen/anaconda2/lib/python2.7/urllib2.py\", line 548, in http_response\n    'http', request, response, code, msg, hdrs)\n  File \"/Users/mingchen/anaconda2/lib/python2.7/urllib2.py\", line 467, in error\n    result = self._call_chain(*args)\n  File \"/Users/mingchen/anaconda2/lib/python2.7/urllib2.py\", line 407, in _call_chain\n    result = func(*args)\n  File \"/Users/mingchen/anaconda2/lib/python2.7/urllib2.py\", line 654, in http_error_302\n    return self.parent.open(new, timeout=req.timeout)\n  File \"/Users/mingchen/anaconda2/lib/python2.7/urllib2.py\", line 435, in open\n    response = meth(req, response)\n  File \"/Users/mingchen/anaconda2/lib/python2.7/urllib2.py\", line 548, in http_response\n    'http', request, response, code, msg, hdrs)\n  File \"/Users/mingchen/anaconda2/lib/python2.7/urllib2.py\", line 467, in error\n    result = self._call_chain(*args)\n  File \"/Users/mingchen/anaconda2/lib/python2.7/urllib2.py\", line 407, in _call_chain\n    result = func(*args)\n  File \"/Users/mingchen/anaconda2/lib/python2.7/urllib2.py\", line 654, in http_error_302\n    return self.parent.open(new, timeout=req.timeout)\n  File \"/Users/mingchen/anaconda2/lib/python2.7/urllib2.py\", line 435, in open\n    response = meth(req, response)\n  File \"/Users/mingchen/anaconda2/lib/python2.7/urllib2.py\", line 548, in http_response\n    'http', request, response, code, msg, hdrs)\n  File \"/Users/mingchen/anaconda2/lib/python2.7/urllib2.py\", line 467, in error\n    result = self._call_chain(*args)\n  File \"/Users/mingchen/anaconda2/lib/python2.7/urllib2.py\", line 407, in _call_chain\n    result = func(*args)\n  File \"/Users/mingchen/anaconda2/lib/python2.7/urllib2.py\", line 654, in http_error_302\n    return self.parent.open(new, timeout=req.timeout)\n  File \"/Users/mingchen/anaconda2/lib/python2.7/urllib2.py\", line 435, in open\n    response = meth(req, response)\n  File \"/Users/mingchen/anaconda2/lib/python2.7/urllib2.py\", line 548, in http_response\n    'http', request, response, code, msg, hdrs)\n  File \"/Users/mingchen/anaconda2/lib/python2.7/urllib2.py\", line 467, in error\n    result = self._call_chain(*args)\n  File \"/Users/mingchen/anaconda2/lib/python2.7/urllib2.py\", line 407, in _call_chain\n    result = func(*args)\n  File \"/Users/mingchen/anaconda2/lib/python2.7/urllib2.py\", line 654, in http_error_302\n    return self.parent.open(new, timeout=req.timeout)\n  File \"/Users/mingchen/anaconda2/lib/python2.7/urllib2.py\", line 435, in open\n    response = meth(req, response)\n  File \"/Users/mingchen/anaconda2/lib/python2.7/urllib2.py\", line 548, in http_response\n    'http', request, response, code, msg, hdrs)\n  File \"/Users/mingchen/anaconda2/lib/python2.7/urllib2.py\", line 467, in error\n    result = self._call_chain(*args)\n  File \"/Users/mingchen/anaconda2/lib/python2.7/urllib2.py\", line 407, in _call_chain\n    result = func(*args)\n  File \"/Users/mingchen/anaconda2/lib/python2.7/urllib2.py\", line 644, in http_error_302\n    self.inf_msg + msg, headers, fp)\nHTTPError: HTTP Error 302: The HTTP server returned a redirect error that would lead to an infinite loop.\nThe last 30x error message was:\nFound\n\n\tat org.apache.spark.api.python.PythonRunner$$anon$1.read(PythonRDD.scala:193)\n\tat org.apache.spark.api.python.PythonRunner$$anon$1.<init>(PythonRDD.scala:234)\n\tat org.apache.spark.api.python.PythonRunner.compute(PythonRDD.scala:152)\n\tat org.apache.spark.sql.execution.python.BatchEvalPythonExec$$anonfun$doExecute$1.apply(BatchEvalPythonExec.scala:144)\n\tat org.apache.spark.sql.execution.python.BatchEvalPythonExec$$anonfun$doExecute$1.apply(BatchEvalPythonExec.scala:87)\n\tat org.apache.spark.rdd.RDD$$anonfun$mapPartitions$1$$anonfun$apply$23.apply(RDD.scala:796)\n\tat org.apache.spark.rdd.RDD$$anonfun$mapPartitions$1$$anonfun$apply$23.apply(RDD.scala:796)\n\tat org.apache.spark.rdd.MapPartitionsRDD.compute(MapPartitionsRDD.scala:38)\n\tat org.apache.spark.rdd.RDD.computeOrReadCheckpoint(RDD.scala:323)\n\tat org.apache.spark.rdd.RDD.iterator(RDD.scala:287)\n\tat org.apache.spark.rdd.MapPartitionsRDD.compute(MapPartitionsRDD.scala:38)\n\tat org.apache.spark.rdd.RDD.computeOrReadCheckpoint(RDD.scala:323)\n\tat org.apache.spark.rdd.RDD.iterator(RDD.scala:287)\n\tat org.apache.spark.rdd.MapPartitionsRDD.compute(MapPartitionsRDD.scala:38)\n\tat org.apache.spark.rdd.RDD.computeOrReadCheckpoint(RDD.scala:323)\n\tat org.apache.spark.rdd.RDD.iterator(RDD.scala:287)\n\tat org.apache.spark.scheduler.ResultTask.runTask(ResultTask.scala:87)\n\tat org.apache.spark.scheduler.Task.run(Task.scala:99)\n\tat org.apache.spark.executor.Executor$TaskRunner.run(Executor.scala:282)\n\tat java.util.concurrent.ThreadPoolExecutor.runWorker(ThreadPoolExecutor.java:1142)\n\tat java.util.concurrent.ThreadPoolExecutor$Worker.run(ThreadPoolExecutor.java:617)\n\t... 1 more\n",
     "output_type": "error",
     "traceback": [
      "\u001b[0;31m---------------------------------------------------------------------------\u001b[0m",
      "\u001b[0;31mPy4JJavaError\u001b[0m                             Traceback (most recent call last)",
      "\u001b[0;32m<ipython-input-391-0863da283b48>\u001b[0m in \u001b[0;36m<module>\u001b[0;34m()\u001b[0m\n\u001b[0;32m----> 1\u001b[0;31m \u001b[0marticles\u001b[0m\u001b[0;34m.\u001b[0m\u001b[0mshow\u001b[0m\u001b[0;34m(\u001b[0m\u001b[0;36m2\u001b[0m\u001b[0;34m,\u001b[0m \u001b[0mtruncate\u001b[0m\u001b[0;34m=\u001b[0m\u001b[0mFalse\u001b[0m\u001b[0;34m)\u001b[0m\u001b[0;34m\u001b[0m\u001b[0m\n\u001b[0m",
      "\u001b[0;32m/usr/local/Cellar/apache-spark/2.1.0/libexec/python/pyspark/sql/dataframe.pyc\u001b[0m in \u001b[0;36mshow\u001b[0;34m(self, n, truncate)\u001b[0m\n\u001b[1;32m    318\u001b[0m             \u001b[0;32mprint\u001b[0m\u001b[0;34m(\u001b[0m\u001b[0mself\u001b[0m\u001b[0;34m.\u001b[0m\u001b[0m_jdf\u001b[0m\u001b[0;34m.\u001b[0m\u001b[0mshowString\u001b[0m\u001b[0;34m(\u001b[0m\u001b[0mn\u001b[0m\u001b[0;34m,\u001b[0m \u001b[0;36m20\u001b[0m\u001b[0;34m)\u001b[0m\u001b[0;34m)\u001b[0m\u001b[0;34m\u001b[0m\u001b[0m\n\u001b[1;32m    319\u001b[0m         \u001b[0;32melse\u001b[0m\u001b[0;34m:\u001b[0m\u001b[0;34m\u001b[0m\u001b[0m\n\u001b[0;32m--> 320\u001b[0;31m             \u001b[0;32mprint\u001b[0m\u001b[0;34m(\u001b[0m\u001b[0mself\u001b[0m\u001b[0;34m.\u001b[0m\u001b[0m_jdf\u001b[0m\u001b[0;34m.\u001b[0m\u001b[0mshowString\u001b[0m\u001b[0;34m(\u001b[0m\u001b[0mn\u001b[0m\u001b[0;34m,\u001b[0m \u001b[0mint\u001b[0m\u001b[0;34m(\u001b[0m\u001b[0mtruncate\u001b[0m\u001b[0;34m)\u001b[0m\u001b[0;34m)\u001b[0m\u001b[0;34m)\u001b[0m\u001b[0;34m\u001b[0m\u001b[0m\n\u001b[0m\u001b[1;32m    321\u001b[0m \u001b[0;34m\u001b[0m\u001b[0m\n\u001b[1;32m    322\u001b[0m     \u001b[0;32mdef\u001b[0m \u001b[0m__repr__\u001b[0m\u001b[0;34m(\u001b[0m\u001b[0mself\u001b[0m\u001b[0;34m)\u001b[0m\u001b[0;34m:\u001b[0m\u001b[0;34m\u001b[0m\u001b[0m\n",
      "\u001b[0;32m/usr/local/Cellar/apache-spark/2.1.0/libexec/python/lib/py4j-0.10.4-src.zip/py4j/java_gateway.py\u001b[0m in \u001b[0;36m__call__\u001b[0;34m(self, *args)\u001b[0m\n\u001b[1;32m   1131\u001b[0m         \u001b[0manswer\u001b[0m \u001b[0;34m=\u001b[0m \u001b[0mself\u001b[0m\u001b[0;34m.\u001b[0m\u001b[0mgateway_client\u001b[0m\u001b[0;34m.\u001b[0m\u001b[0msend_command\u001b[0m\u001b[0;34m(\u001b[0m\u001b[0mcommand\u001b[0m\u001b[0;34m)\u001b[0m\u001b[0;34m\u001b[0m\u001b[0m\n\u001b[1;32m   1132\u001b[0m         return_value = get_return_value(\n\u001b[0;32m-> 1133\u001b[0;31m             answer, self.gateway_client, self.target_id, self.name)\n\u001b[0m\u001b[1;32m   1134\u001b[0m \u001b[0;34m\u001b[0m\u001b[0m\n\u001b[1;32m   1135\u001b[0m         \u001b[0;32mfor\u001b[0m \u001b[0mtemp_arg\u001b[0m \u001b[0;32min\u001b[0m \u001b[0mtemp_args\u001b[0m\u001b[0;34m:\u001b[0m\u001b[0;34m\u001b[0m\u001b[0m\n",
      "\u001b[0;32m/usr/local/Cellar/apache-spark/2.1.0/libexec/python/pyspark/sql/utils.pyc\u001b[0m in \u001b[0;36mdeco\u001b[0;34m(*a, **kw)\u001b[0m\n\u001b[1;32m     61\u001b[0m     \u001b[0;32mdef\u001b[0m \u001b[0mdeco\u001b[0m\u001b[0;34m(\u001b[0m\u001b[0;34m*\u001b[0m\u001b[0ma\u001b[0m\u001b[0;34m,\u001b[0m \u001b[0;34m**\u001b[0m\u001b[0mkw\u001b[0m\u001b[0;34m)\u001b[0m\u001b[0;34m:\u001b[0m\u001b[0;34m\u001b[0m\u001b[0m\n\u001b[1;32m     62\u001b[0m         \u001b[0;32mtry\u001b[0m\u001b[0;34m:\u001b[0m\u001b[0;34m\u001b[0m\u001b[0m\n\u001b[0;32m---> 63\u001b[0;31m             \u001b[0;32mreturn\u001b[0m \u001b[0mf\u001b[0m\u001b[0;34m(\u001b[0m\u001b[0;34m*\u001b[0m\u001b[0ma\u001b[0m\u001b[0;34m,\u001b[0m \u001b[0;34m**\u001b[0m\u001b[0mkw\u001b[0m\u001b[0;34m)\u001b[0m\u001b[0;34m\u001b[0m\u001b[0m\n\u001b[0m\u001b[1;32m     64\u001b[0m         \u001b[0;32mexcept\u001b[0m \u001b[0mpy4j\u001b[0m\u001b[0;34m.\u001b[0m\u001b[0mprotocol\u001b[0m\u001b[0;34m.\u001b[0m\u001b[0mPy4JJavaError\u001b[0m \u001b[0;32mas\u001b[0m \u001b[0me\u001b[0m\u001b[0;34m:\u001b[0m\u001b[0;34m\u001b[0m\u001b[0m\n\u001b[1;32m     65\u001b[0m             \u001b[0ms\u001b[0m \u001b[0;34m=\u001b[0m \u001b[0me\u001b[0m\u001b[0;34m.\u001b[0m\u001b[0mjava_exception\u001b[0m\u001b[0;34m.\u001b[0m\u001b[0mtoString\u001b[0m\u001b[0;34m(\u001b[0m\u001b[0;34m)\u001b[0m\u001b[0;34m\u001b[0m\u001b[0m\n",
      "\u001b[0;32m/usr/local/Cellar/apache-spark/2.1.0/libexec/python/lib/py4j-0.10.4-src.zip/py4j/protocol.py\u001b[0m in \u001b[0;36mget_return_value\u001b[0;34m(answer, gateway_client, target_id, name)\u001b[0m\n\u001b[1;32m    317\u001b[0m                 raise Py4JJavaError(\n\u001b[1;32m    318\u001b[0m                     \u001b[0;34m\"An error occurred while calling {0}{1}{2}.\\n\"\u001b[0m\u001b[0;34m.\u001b[0m\u001b[0;34m\u001b[0m\u001b[0m\n\u001b[0;32m--> 319\u001b[0;31m                     format(target_id, \".\", name), value)\n\u001b[0m\u001b[1;32m    320\u001b[0m             \u001b[0;32melse\u001b[0m\u001b[0;34m:\u001b[0m\u001b[0;34m\u001b[0m\u001b[0m\n\u001b[1;32m    321\u001b[0m                 raise Py4JError(\n",
      "\u001b[0;31mPy4JJavaError\u001b[0m: An error occurred while calling o1420.showString.\n: org.apache.spark.SparkException: Job aborted due to stage failure: Task 0 in stage 104.0 failed 1 times, most recent failure: Lost task 0.0 in stage 104.0 (TID 113, localhost, executor driver): org.apache.spark.api.python.PythonException: Traceback (most recent call last):\n  File \"/usr/local/Cellar/apache-spark/2.1.0/libexec/python/lib/pyspark.zip/pyspark/worker.py\", line 174, in main\n    process()\n  File \"/usr/local/Cellar/apache-spark/2.1.0/libexec/python/lib/pyspark.zip/pyspark/worker.py\", line 169, in process\n    serializer.dump_stream(func(split_index, iterator), outfile)\n  File \"/usr/local/Cellar/apache-spark/2.1.0/libexec/python/lib/pyspark.zip/pyspark/worker.py\", line 106, in <lambda>\n    func = lambda _, it: map(mapper, it)\n  File \"/usr/local/Cellar/apache-spark/2.1.0/libexec/python/lib/pyspark.zip/pyspark/worker.py\", line 92, in <lambda>\n    mapper = lambda a: udf(*a)\n  File \"/usr/local/Cellar/apache-spark/2.1.0/libexec/python/lib/pyspark.zip/pyspark/worker.py\", line 70, in <lambda>\n    return lambda *a: f(*a)\n  File \"<ipython-input-389-133c4338215d>\", line 3, in get_article_content\n  File \"/Users/mingchen/anaconda2/lib/python2.7/urllib2.py\", line 154, in urlopen\n    return opener.open(url, data, timeout)\n  File \"/Users/mingchen/anaconda2/lib/python2.7/urllib2.py\", line 435, in open\n    response = meth(req, response)\n  File \"/Users/mingchen/anaconda2/lib/python2.7/urllib2.py\", line 548, in http_response\n    'http', request, response, code, msg, hdrs)\n  File \"/Users/mingchen/anaconda2/lib/python2.7/urllib2.py\", line 467, in error\n    result = self._call_chain(*args)\n  File \"/Users/mingchen/anaconda2/lib/python2.7/urllib2.py\", line 407, in _call_chain\n    result = func(*args)\n  File \"/Users/mingchen/anaconda2/lib/python2.7/urllib2.py\", line 654, in http_error_302\n    return self.parent.open(new, timeout=req.timeout)\n  File \"/Users/mingchen/anaconda2/lib/python2.7/urllib2.py\", line 435, in open\n    response = meth(req, response)\n  File \"/Users/mingchen/anaconda2/lib/python2.7/urllib2.py\", line 548, in http_response\n    'http', request, response, code, msg, hdrs)\n  File \"/Users/mingchen/anaconda2/lib/python2.7/urllib2.py\", line 467, in error\n    result = self._call_chain(*args)\n  File \"/Users/mingchen/anaconda2/lib/python2.7/urllib2.py\", line 407, in _call_chain\n    result = func(*args)\n  File \"/Users/mingchen/anaconda2/lib/python2.7/urllib2.py\", line 654, in http_error_302\n    return self.parent.open(new, timeout=req.timeout)\n  File \"/Users/mingchen/anaconda2/lib/python2.7/urllib2.py\", line 435, in open\n    response = meth(req, response)\n  File \"/Users/mingchen/anaconda2/lib/python2.7/urllib2.py\", line 548, in http_response\n    'http', request, response, code, msg, hdrs)\n  File \"/Users/mingchen/anaconda2/lib/python2.7/urllib2.py\", line 467, in error\n    result = self._call_chain(*args)\n  File \"/Users/mingchen/anaconda2/lib/python2.7/urllib2.py\", line 407, in _call_chain\n    result = func(*args)\n  File \"/Users/mingchen/anaconda2/lib/python2.7/urllib2.py\", line 654, in http_error_302\n    return self.parent.open(new, timeout=req.timeout)\n  File \"/Users/mingchen/anaconda2/lib/python2.7/urllib2.py\", line 435, in open\n    response = meth(req, response)\n  File \"/Users/mingchen/anaconda2/lib/python2.7/urllib2.py\", line 548, in http_response\n    'http', request, response, code, msg, hdrs)\n  File \"/Users/mingchen/anaconda2/lib/python2.7/urllib2.py\", line 467, in error\n    result = self._call_chain(*args)\n  File \"/Users/mingchen/anaconda2/lib/python2.7/urllib2.py\", line 407, in _call_chain\n    result = func(*args)\n  File \"/Users/mingchen/anaconda2/lib/python2.7/urllib2.py\", line 654, in http_error_302\n    return self.parent.open(new, timeout=req.timeout)\n  File \"/Users/mingchen/anaconda2/lib/python2.7/urllib2.py\", line 435, in open\n    response = meth(req, response)\n  File \"/Users/mingchen/anaconda2/lib/python2.7/urllib2.py\", line 548, in http_response\n    'http', request, response, code, msg, hdrs)\n  File \"/Users/mingchen/anaconda2/lib/python2.7/urllib2.py\", line 467, in error\n    result = self._call_chain(*args)\n  File \"/Users/mingchen/anaconda2/lib/python2.7/urllib2.py\", line 407, in _call_chain\n    result = func(*args)\n  File \"/Users/mingchen/anaconda2/lib/python2.7/urllib2.py\", line 654, in http_error_302\n    return self.parent.open(new, timeout=req.timeout)\n  File \"/Users/mingchen/anaconda2/lib/python2.7/urllib2.py\", line 435, in open\n    response = meth(req, response)\n  File \"/Users/mingchen/anaconda2/lib/python2.7/urllib2.py\", line 548, in http_response\n    'http', request, response, code, msg, hdrs)\n  File \"/Users/mingchen/anaconda2/lib/python2.7/urllib2.py\", line 467, in error\n    result = self._call_chain(*args)\n  File \"/Users/mingchen/anaconda2/lib/python2.7/urllib2.py\", line 407, in _call_chain\n    result = func(*args)\n  File \"/Users/mingchen/anaconda2/lib/python2.7/urllib2.py\", line 654, in http_error_302\n    return self.parent.open(new, timeout=req.timeout)\n  File \"/Users/mingchen/anaconda2/lib/python2.7/urllib2.py\", line 435, in open\n    response = meth(req, response)\n  File \"/Users/mingchen/anaconda2/lib/python2.7/urllib2.py\", line 548, in http_response\n    'http', request, response, code, msg, hdrs)\n  File \"/Users/mingchen/anaconda2/lib/python2.7/urllib2.py\", line 467, in error\n    result = self._call_chain(*args)\n  File \"/Users/mingchen/anaconda2/lib/python2.7/urllib2.py\", line 407, in _call_chain\n    result = func(*args)\n  File \"/Users/mingchen/anaconda2/lib/python2.7/urllib2.py\", line 654, in http_error_302\n    return self.parent.open(new, timeout=req.timeout)\n  File \"/Users/mingchen/anaconda2/lib/python2.7/urllib2.py\", line 435, in open\n    response = meth(req, response)\n  File \"/Users/mingchen/anaconda2/lib/python2.7/urllib2.py\", line 548, in http_response\n    'http', request, response, code, msg, hdrs)\n  File \"/Users/mingchen/anaconda2/lib/python2.7/urllib2.py\", line 467, in error\n    result = self._call_chain(*args)\n  File \"/Users/mingchen/anaconda2/lib/python2.7/urllib2.py\", line 407, in _call_chain\n    result = func(*args)\n  File \"/Users/mingchen/anaconda2/lib/python2.7/urllib2.py\", line 654, in http_error_302\n    return self.parent.open(new, timeout=req.timeout)\n  File \"/Users/mingchen/anaconda2/lib/python2.7/urllib2.py\", line 435, in open\n    response = meth(req, response)\n  File \"/Users/mingchen/anaconda2/lib/python2.7/urllib2.py\", line 548, in http_response\n    'http', request, response, code, msg, hdrs)\n  File \"/Users/mingchen/anaconda2/lib/python2.7/urllib2.py\", line 467, in error\n    result = self._call_chain(*args)\n  File \"/Users/mingchen/anaconda2/lib/python2.7/urllib2.py\", line 407, in _call_chain\n    result = func(*args)\n  File \"/Users/mingchen/anaconda2/lib/python2.7/urllib2.py\", line 644, in http_error_302\n    self.inf_msg + msg, headers, fp)\nHTTPError: HTTP Error 302: The HTTP server returned a redirect error that would lead to an infinite loop.\nThe last 30x error message was:\nFound\n\n\tat org.apache.spark.api.python.PythonRunner$$anon$1.read(PythonRDD.scala:193)\n\tat org.apache.spark.api.python.PythonRunner$$anon$1.<init>(PythonRDD.scala:234)\n\tat org.apache.spark.api.python.PythonRunner.compute(PythonRDD.scala:152)\n\tat org.apache.spark.sql.execution.python.BatchEvalPythonExec$$anonfun$doExecute$1.apply(BatchEvalPythonExec.scala:144)\n\tat org.apache.spark.sql.execution.python.BatchEvalPythonExec$$anonfun$doExecute$1.apply(BatchEvalPythonExec.scala:87)\n\tat org.apache.spark.rdd.RDD$$anonfun$mapPartitions$1$$anonfun$apply$23.apply(RDD.scala:796)\n\tat org.apache.spark.rdd.RDD$$anonfun$mapPartitions$1$$anonfun$apply$23.apply(RDD.scala:796)\n\tat org.apache.spark.rdd.MapPartitionsRDD.compute(MapPartitionsRDD.scala:38)\n\tat org.apache.spark.rdd.RDD.computeOrReadCheckpoint(RDD.scala:323)\n\tat org.apache.spark.rdd.RDD.iterator(RDD.scala:287)\n\tat org.apache.spark.rdd.MapPartitionsRDD.compute(MapPartitionsRDD.scala:38)\n\tat org.apache.spark.rdd.RDD.computeOrReadCheckpoint(RDD.scala:323)\n\tat org.apache.spark.rdd.RDD.iterator(RDD.scala:287)\n\tat org.apache.spark.rdd.MapPartitionsRDD.compute(MapPartitionsRDD.scala:38)\n\tat org.apache.spark.rdd.RDD.computeOrReadCheckpoint(RDD.scala:323)\n\tat org.apache.spark.rdd.RDD.iterator(RDD.scala:287)\n\tat org.apache.spark.scheduler.ResultTask.runTask(ResultTask.scala:87)\n\tat org.apache.spark.scheduler.Task.run(Task.scala:99)\n\tat org.apache.spark.executor.Executor$TaskRunner.run(Executor.scala:282)\n\tat java.util.concurrent.ThreadPoolExecutor.runWorker(ThreadPoolExecutor.java:1142)\n\tat java.util.concurrent.ThreadPoolExecutor$Worker.run(ThreadPoolExecutor.java:617)\n\tat java.lang.Thread.run(Thread.java:745)\n\nDriver stacktrace:\n\tat org.apache.spark.scheduler.DAGScheduler.org$apache$spark$scheduler$DAGScheduler$$failJobAndIndependentStages(DAGScheduler.scala:1435)\n\tat org.apache.spark.scheduler.DAGScheduler$$anonfun$abortStage$1.apply(DAGScheduler.scala:1423)\n\tat org.apache.spark.scheduler.DAGScheduler$$anonfun$abortStage$1.apply(DAGScheduler.scala:1422)\n\tat scala.collection.mutable.ResizableArray$class.foreach(ResizableArray.scala:59)\n\tat scala.collection.mutable.ArrayBuffer.foreach(ArrayBuffer.scala:48)\n\tat org.apache.spark.scheduler.DAGScheduler.abortStage(DAGScheduler.scala:1422)\n\tat org.apache.spark.scheduler.DAGScheduler$$anonfun$handleTaskSetFailed$1.apply(DAGScheduler.scala:802)\n\tat org.apache.spark.scheduler.DAGScheduler$$anonfun$handleTaskSetFailed$1.apply(DAGScheduler.scala:802)\n\tat scala.Option.foreach(Option.scala:257)\n\tat org.apache.spark.scheduler.DAGScheduler.handleTaskSetFailed(DAGScheduler.scala:802)\n\tat org.apache.spark.scheduler.DAGSchedulerEventProcessLoop.doOnReceive(DAGScheduler.scala:1650)\n\tat org.apache.spark.scheduler.DAGSchedulerEventProcessLoop.onReceive(DAGScheduler.scala:1605)\n\tat org.apache.spark.scheduler.DAGSchedulerEventProcessLoop.onReceive(DAGScheduler.scala:1594)\n\tat org.apache.spark.util.EventLoop$$anon$1.run(EventLoop.scala:48)\n\tat org.apache.spark.scheduler.DAGScheduler.runJob(DAGScheduler.scala:628)\n\tat org.apache.spark.SparkContext.runJob(SparkContext.scala:1918)\n\tat org.apache.spark.SparkContext.runJob(SparkContext.scala:1931)\n\tat org.apache.spark.SparkContext.runJob(SparkContext.scala:1944)\n\tat org.apache.spark.sql.execution.SparkPlan.executeTake(SparkPlan.scala:333)\n\tat org.apache.spark.sql.execution.CollectLimitExec.executeCollect(limit.scala:38)\n\tat org.apache.spark.sql.Dataset$$anonfun$org$apache$spark$sql$Dataset$$execute$1$1.apply(Dataset.scala:2371)\n\tat org.apache.spark.sql.execution.SQLExecution$.withNewExecutionId(SQLExecution.scala:57)\n\tat org.apache.spark.sql.Dataset.withNewExecutionId(Dataset.scala:2765)\n\tat org.apache.spark.sql.Dataset.org$apache$spark$sql$Dataset$$execute$1(Dataset.scala:2370)\n\tat org.apache.spark.sql.Dataset.org$apache$spark$sql$Dataset$$collect(Dataset.scala:2377)\n\tat org.apache.spark.sql.Dataset$$anonfun$head$1.apply(Dataset.scala:2113)\n\tat org.apache.spark.sql.Dataset$$anonfun$head$1.apply(Dataset.scala:2112)\n\tat org.apache.spark.sql.Dataset.withTypedCallback(Dataset.scala:2795)\n\tat org.apache.spark.sql.Dataset.head(Dataset.scala:2112)\n\tat org.apache.spark.sql.Dataset.take(Dataset.scala:2327)\n\tat org.apache.spark.sql.Dataset.showString(Dataset.scala:248)\n\tat sun.reflect.GeneratedMethodAccessor142.invoke(Unknown Source)\n\tat sun.reflect.DelegatingMethodAccessorImpl.invoke(DelegatingMethodAccessorImpl.java:43)\n\tat java.lang.reflect.Method.invoke(Method.java:497)\n\tat py4j.reflection.MethodInvoker.invoke(MethodInvoker.java:244)\n\tat py4j.reflection.ReflectionEngine.invoke(ReflectionEngine.java:357)\n\tat py4j.Gateway.invoke(Gateway.java:280)\n\tat py4j.commands.AbstractCommand.invokeMethod(AbstractCommand.java:132)\n\tat py4j.commands.CallCommand.execute(CallCommand.java:79)\n\tat py4j.GatewayConnection.run(GatewayConnection.java:214)\n\tat java.lang.Thread.run(Thread.java:745)\nCaused by: org.apache.spark.api.python.PythonException: Traceback (most recent call last):\n  File \"/usr/local/Cellar/apache-spark/2.1.0/libexec/python/lib/pyspark.zip/pyspark/worker.py\", line 174, in main\n    process()\n  File \"/usr/local/Cellar/apache-spark/2.1.0/libexec/python/lib/pyspark.zip/pyspark/worker.py\", line 169, in process\n    serializer.dump_stream(func(split_index, iterator), outfile)\n  File \"/usr/local/Cellar/apache-spark/2.1.0/libexec/python/lib/pyspark.zip/pyspark/worker.py\", line 106, in <lambda>\n    func = lambda _, it: map(mapper, it)\n  File \"/usr/local/Cellar/apache-spark/2.1.0/libexec/python/lib/pyspark.zip/pyspark/worker.py\", line 92, in <lambda>\n    mapper = lambda a: udf(*a)\n  File \"/usr/local/Cellar/apache-spark/2.1.0/libexec/python/lib/pyspark.zip/pyspark/worker.py\", line 70, in <lambda>\n    return lambda *a: f(*a)\n  File \"<ipython-input-389-133c4338215d>\", line 3, in get_article_content\n  File \"/Users/mingchen/anaconda2/lib/python2.7/urllib2.py\", line 154, in urlopen\n    return opener.open(url, data, timeout)\n  File \"/Users/mingchen/anaconda2/lib/python2.7/urllib2.py\", line 435, in open\n    response = meth(req, response)\n  File \"/Users/mingchen/anaconda2/lib/python2.7/urllib2.py\", line 548, in http_response\n    'http', request, response, code, msg, hdrs)\n  File \"/Users/mingchen/anaconda2/lib/python2.7/urllib2.py\", line 467, in error\n    result = self._call_chain(*args)\n  File \"/Users/mingchen/anaconda2/lib/python2.7/urllib2.py\", line 407, in _call_chain\n    result = func(*args)\n  File \"/Users/mingchen/anaconda2/lib/python2.7/urllib2.py\", line 654, in http_error_302\n    return self.parent.open(new, timeout=req.timeout)\n  File \"/Users/mingchen/anaconda2/lib/python2.7/urllib2.py\", line 435, in open\n    response = meth(req, response)\n  File \"/Users/mingchen/anaconda2/lib/python2.7/urllib2.py\", line 548, in http_response\n    'http', request, response, code, msg, hdrs)\n  File \"/Users/mingchen/anaconda2/lib/python2.7/urllib2.py\", line 467, in error\n    result = self._call_chain(*args)\n  File \"/Users/mingchen/anaconda2/lib/python2.7/urllib2.py\", line 407, in _call_chain\n    result = func(*args)\n  File \"/Users/mingchen/anaconda2/lib/python2.7/urllib2.py\", line 654, in http_error_302\n    return self.parent.open(new, timeout=req.timeout)\n  File \"/Users/mingchen/anaconda2/lib/python2.7/urllib2.py\", line 435, in open\n    response = meth(req, response)\n  File \"/Users/mingchen/anaconda2/lib/python2.7/urllib2.py\", line 548, in http_response\n    'http', request, response, code, msg, hdrs)\n  File \"/Users/mingchen/anaconda2/lib/python2.7/urllib2.py\", line 467, in error\n    result = self._call_chain(*args)\n  File \"/Users/mingchen/anaconda2/lib/python2.7/urllib2.py\", line 407, in _call_chain\n    result = func(*args)\n  File \"/Users/mingchen/anaconda2/lib/python2.7/urllib2.py\", line 654, in http_error_302\n    return self.parent.open(new, timeout=req.timeout)\n  File \"/Users/mingchen/anaconda2/lib/python2.7/urllib2.py\", line 435, in open\n    response = meth(req, response)\n  File \"/Users/mingchen/anaconda2/lib/python2.7/urllib2.py\", line 548, in http_response\n    'http', request, response, code, msg, hdrs)\n  File \"/Users/mingchen/anaconda2/lib/python2.7/urllib2.py\", line 467, in error\n    result = self._call_chain(*args)\n  File \"/Users/mingchen/anaconda2/lib/python2.7/urllib2.py\", line 407, in _call_chain\n    result = func(*args)\n  File \"/Users/mingchen/anaconda2/lib/python2.7/urllib2.py\", line 654, in http_error_302\n    return self.parent.open(new, timeout=req.timeout)\n  File \"/Users/mingchen/anaconda2/lib/python2.7/urllib2.py\", line 435, in open\n    response = meth(req, response)\n  File \"/Users/mingchen/anaconda2/lib/python2.7/urllib2.py\", line 548, in http_response\n    'http', request, response, code, msg, hdrs)\n  File \"/Users/mingchen/anaconda2/lib/python2.7/urllib2.py\", line 467, in error\n    result = self._call_chain(*args)\n  File \"/Users/mingchen/anaconda2/lib/python2.7/urllib2.py\", line 407, in _call_chain\n    result = func(*args)\n  File \"/Users/mingchen/anaconda2/lib/python2.7/urllib2.py\", line 654, in http_error_302\n    return self.parent.open(new, timeout=req.timeout)\n  File \"/Users/mingchen/anaconda2/lib/python2.7/urllib2.py\", line 435, in open\n    response = meth(req, response)\n  File \"/Users/mingchen/anaconda2/lib/python2.7/urllib2.py\", line 548, in http_response\n    'http', request, response, code, msg, hdrs)\n  File \"/Users/mingchen/anaconda2/lib/python2.7/urllib2.py\", line 467, in error\n    result = self._call_chain(*args)\n  File \"/Users/mingchen/anaconda2/lib/python2.7/urllib2.py\", line 407, in _call_chain\n    result = func(*args)\n  File \"/Users/mingchen/anaconda2/lib/python2.7/urllib2.py\", line 654, in http_error_302\n    return self.parent.open(new, timeout=req.timeout)\n  File \"/Users/mingchen/anaconda2/lib/python2.7/urllib2.py\", line 435, in open\n    response = meth(req, response)\n  File \"/Users/mingchen/anaconda2/lib/python2.7/urllib2.py\", line 548, in http_response\n    'http', request, response, code, msg, hdrs)\n  File \"/Users/mingchen/anaconda2/lib/python2.7/urllib2.py\", line 467, in error\n    result = self._call_chain(*args)\n  File \"/Users/mingchen/anaconda2/lib/python2.7/urllib2.py\", line 407, in _call_chain\n    result = func(*args)\n  File \"/Users/mingchen/anaconda2/lib/python2.7/urllib2.py\", line 654, in http_error_302\n    return self.parent.open(new, timeout=req.timeout)\n  File \"/Users/mingchen/anaconda2/lib/python2.7/urllib2.py\", line 435, in open\n    response = meth(req, response)\n  File \"/Users/mingchen/anaconda2/lib/python2.7/urllib2.py\", line 548, in http_response\n    'http', request, response, code, msg, hdrs)\n  File \"/Users/mingchen/anaconda2/lib/python2.7/urllib2.py\", line 467, in error\n    result = self._call_chain(*args)\n  File \"/Users/mingchen/anaconda2/lib/python2.7/urllib2.py\", line 407, in _call_chain\n    result = func(*args)\n  File \"/Users/mingchen/anaconda2/lib/python2.7/urllib2.py\", line 654, in http_error_302\n    return self.parent.open(new, timeout=req.timeout)\n  File \"/Users/mingchen/anaconda2/lib/python2.7/urllib2.py\", line 435, in open\n    response = meth(req, response)\n  File \"/Users/mingchen/anaconda2/lib/python2.7/urllib2.py\", line 548, in http_response\n    'http', request, response, code, msg, hdrs)\n  File \"/Users/mingchen/anaconda2/lib/python2.7/urllib2.py\", line 467, in error\n    result = self._call_chain(*args)\n  File \"/Users/mingchen/anaconda2/lib/python2.7/urllib2.py\", line 407, in _call_chain\n    result = func(*args)\n  File \"/Users/mingchen/anaconda2/lib/python2.7/urllib2.py\", line 644, in http_error_302\n    self.inf_msg + msg, headers, fp)\nHTTPError: HTTP Error 302: The HTTP server returned a redirect error that would lead to an infinite loop.\nThe last 30x error message was:\nFound\n\n\tat org.apache.spark.api.python.PythonRunner$$anon$1.read(PythonRDD.scala:193)\n\tat org.apache.spark.api.python.PythonRunner$$anon$1.<init>(PythonRDD.scala:234)\n\tat org.apache.spark.api.python.PythonRunner.compute(PythonRDD.scala:152)\n\tat org.apache.spark.sql.execution.python.BatchEvalPythonExec$$anonfun$doExecute$1.apply(BatchEvalPythonExec.scala:144)\n\tat org.apache.spark.sql.execution.python.BatchEvalPythonExec$$anonfun$doExecute$1.apply(BatchEvalPythonExec.scala:87)\n\tat org.apache.spark.rdd.RDD$$anonfun$mapPartitions$1$$anonfun$apply$23.apply(RDD.scala:796)\n\tat org.apache.spark.rdd.RDD$$anonfun$mapPartitions$1$$anonfun$apply$23.apply(RDD.scala:796)\n\tat org.apache.spark.rdd.MapPartitionsRDD.compute(MapPartitionsRDD.scala:38)\n\tat org.apache.spark.rdd.RDD.computeOrReadCheckpoint(RDD.scala:323)\n\tat org.apache.spark.rdd.RDD.iterator(RDD.scala:287)\n\tat org.apache.spark.rdd.MapPartitionsRDD.compute(MapPartitionsRDD.scala:38)\n\tat org.apache.spark.rdd.RDD.computeOrReadCheckpoint(RDD.scala:323)\n\tat org.apache.spark.rdd.RDD.iterator(RDD.scala:287)\n\tat org.apache.spark.rdd.MapPartitionsRDD.compute(MapPartitionsRDD.scala:38)\n\tat org.apache.spark.rdd.RDD.computeOrReadCheckpoint(RDD.scala:323)\n\tat org.apache.spark.rdd.RDD.iterator(RDD.scala:287)\n\tat org.apache.spark.scheduler.ResultTask.runTask(ResultTask.scala:87)\n\tat org.apache.spark.scheduler.Task.run(Task.scala:99)\n\tat org.apache.spark.executor.Executor$TaskRunner.run(Executor.scala:282)\n\tat java.util.concurrent.ThreadPoolExecutor.runWorker(ThreadPoolExecutor.java:1142)\n\tat java.util.concurrent.ThreadPoolExecutor$Worker.run(ThreadPoolExecutor.java:617)\n\t... 1 more\n"
     ]
    }
   ],
   "source": [
    "articles.show(2, truncate=False)"
   ]
  },
  {
   "cell_type": "code",
   "execution_count": null,
   "metadata": {
    "collapsed": false
   },
   "outputs": [],
   "source": [
    "from pyspark.sql.functions import split, lower\n",
    "articles = articles.select(lower(articles.article).alias('article'))\n",
    "df_sentences = articles.select(split(articles.article, '[,\\.;]').alias('sentences'))"
   ]
  },
  {
   "cell_type": "code",
   "execution_count": null,
   "metadata": {
    "collapsed": false
   },
   "outputs": [],
   "source": [
    "df_sentences.show(4)"
   ]
  },
  {
   "cell_type": "code",
   "execution_count": null,
   "metadata": {
    "collapsed": false
   },
   "outputs": [],
   "source": [
    "from pyspark.sql.types import *\n",
    "def filter_4_plus_wds(sentences):\n",
    "    if len(sentences.split()) > 3:\n",
    "        return(True)\n",
    "def filter_bcl2(sentences):\n",
    "    if 'bcl2' in sentences:\n",
    "        return(True)\n",
    "def bcl2_sentences(sentences):\n",
    "    sentences = filter(filter_less_3_wds, sentences)\n",
    "    sentences = filter(filter_bcl2, sentences)\n",
    "    return(sentences)\n",
    "\n",
    "bcl2_sentences_udf = udf(bcl2_sentences, ArrayType(StringType()))"
   ]
  },
  {
   "cell_type": "code",
   "execution_count": null,
   "metadata": {
    "collapsed": false
   },
   "outputs": [],
   "source": [
    "bcl2_df = df_sentences.select(bcl2_sentences_udf(df_sentences.sentences).alias('sentences'))"
   ]
  },
  {
   "cell_type": "code",
   "execution_count": null,
   "metadata": {
    "collapsed": false
   },
   "outputs": [],
   "source": [
    "bcl2_df.show(5, truncate=False)"
   ]
  },
  {
   "cell_type": "code",
   "execution_count": null,
   "metadata": {
    "collapsed": false
   },
   "outputs": [],
   "source": [
    "bcl2_df.count()"
   ]
  },
  {
   "cell_type": "code",
   "execution_count": null,
   "metadata": {
    "collapsed": false
   },
   "outputs": [],
   "source": [
    "articles.count()"
   ]
  },
  {
   "cell_type": "code",
   "execution_count": null,
   "metadata": {
    "collapsed": false
   },
   "outputs": [],
   "source": [
    "article_urls.count()"
   ]
  },
  {
   "cell_type": "code",
   "execution_count": null,
   "metadata": {
    "collapsed": false
   },
   "outputs": [],
   "source": []
  },
  {
   "cell_type": "code",
   "execution_count": null,
   "metadata": {
    "collapsed": true
   },
   "outputs": [],
   "source": []
  },
  {
   "cell_type": "code",
   "execution_count": null,
   "metadata": {
    "collapsed": true
   },
   "outputs": [],
   "source": []
  },
  {
   "cell_type": "code",
   "execution_count": null,
   "metadata": {
    "collapsed": true
   },
   "outputs": [],
   "source": []
  },
  {
   "cell_type": "code",
   "execution_count": null,
   "metadata": {
    "collapsed": true
   },
   "outputs": [],
   "source": []
  },
  {
   "cell_type": "code",
   "execution_count": null,
   "metadata": {
    "collapsed": true
   },
   "outputs": [],
   "source": []
  },
  {
   "cell_type": "code",
   "execution_count": null,
   "metadata": {
    "collapsed": true
   },
   "outputs": [],
   "source": []
  },
  {
   "cell_type": "code",
   "execution_count": null,
   "metadata": {
    "collapsed": true
   },
   "outputs": [],
   "source": []
  },
  {
   "cell_type": "code",
   "execution_count": null,
   "metadata": {
    "collapsed": true
   },
   "outputs": [],
   "source": []
  },
  {
   "cell_type": "code",
   "execution_count": null,
   "metadata": {
    "collapsed": true
   },
   "outputs": [],
   "source": []
  },
  {
   "cell_type": "code",
   "execution_count": null,
   "metadata": {
    "collapsed": true
   },
   "outputs": [],
   "source": []
  },
  {
   "cell_type": "code",
   "execution_count": null,
   "metadata": {
    "collapsed": true
   },
   "outputs": [],
   "source": []
  },
  {
   "cell_type": "code",
   "execution_count": null,
   "metadata": {
    "collapsed": true
   },
   "outputs": [],
   "source": []
  }
 ],
 "metadata": {
  "anaconda-cloud": {},
  "kernelspec": {
   "display_name": "Python [Root]",
   "language": "python",
   "name": "Python [Root]"
  },
  "language_info": {
   "codemirror_mode": {
    "name": "ipython",
    "version": 2
   },
   "file_extension": ".py",
   "mimetype": "text/x-python",
   "name": "python",
   "nbconvert_exporter": "python",
   "pygments_lexer": "ipython2",
   "version": "2.7.13"
  }
 },
 "nbformat": 4,
 "nbformat_minor": 2
}
