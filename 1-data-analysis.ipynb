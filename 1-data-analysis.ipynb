{
 "cells": [
  {
   "cell_type": "code",
   "execution_count": 2,
   "metadata": {},
   "outputs": [],
   "source": [
    "# create entry points to spark\n",
    "try:\n",
    "    sc.stop()\n",
    "except:\n",
    "    pass\n",
    "from pyspark import SparkContext, SparkConf\n",
    "from pyspark.sql import SparkSession\n",
    "sc = SparkContext()\n",
    "spark = SparkSession(sparkContext=sc)"
   ]
  },
  {
   "cell_type": "markdown",
   "metadata": {},
   "source": [
    "# Load 'bcl2' sentences data"
   ]
  },
  {
   "cell_type": "code",
   "execution_count": 4,
   "metadata": {},
   "outputs": [
    {
     "name": "stdout",
     "output_type": "stream",
     "text": [
      "+--------+--------------------+\n",
      "|      id|           sentences|\n",
      "+--------+--------------------+\n",
      "|28386116| we experimentall...|\n",
      "|28386116| to evaluate the ...|\n",
      "|28386116|it has been well ...|\n",
      "|28386116| our bioinformati...|\n",
      "|28386116| it has been prev...|\n",
      "|28386116| to assess to wha...|\n",
      "|28386116| however, rnafold...|\n",
      "|28386116|a point mutation ...|\n",
      "|28386116| wild-type constr...|\n",
      "|28386116| (b) cd spectra o...|\n",
      "|28386116| (c) cd melting c...|\n",
      "|28386116| cd spectra of wi...|\n",
      "|28386116| cd melting at 26...|\n",
      "|28386116|luciferase report...|\n",
      "|28386116| three constructs...|\n",
      "|28386116| 3d), which suppo...|\n",
      "|28386116| compared to the ...|\n",
      "|28386116|although in silic...|\n",
      "|28386116| these observatio...|\n",
      "|28386116|further character...|\n",
      "+--------+--------------------+\n",
      "only showing top 20 rows\n",
      "\n"
     ]
    }
   ],
   "source": [
    "bcl2 = spark.read.csv('raw_data/article-content.txt', sep='\\t', inferSchema=True).toDF('id', 'sentences')\n",
    "bcl2.show()"
   ]
  },
  {
   "cell_type": "markdown",
   "metadata": {},
   "source": [
    "# Split sentences into words and lemmatizing words"
   ]
  },
  {
   "cell_type": "markdown",
   "metadata": {},
   "source": [
    "We need to define a `udf` function to deal with each row of the bcl2 dataframe."
   ]
  },
  {
   "cell_type": "code",
   "execution_count": 5,
   "metadata": {},
   "outputs": [],
   "source": [
    "from pyspark.sql.functions import udf\n",
    "from pyspark.sql.types import *"
   ]
  },
  {
   "cell_type": "code",
   "execution_count": 12,
   "metadata": {},
   "outputs": [],
   "source": [
    "from nltk.stem import WordNetLemmatizer\n",
    "wordnet_lemmatizer = WordNetLemmatizer()\n",
    "\n",
    "def lemmatizer(s):\n",
    "    words_list = [wordnet_lemmatizer.lemmatize(w, 'v') for w in s.split()]\n",
    "    return(words_list)\n",
    "lemmatizer_udf = udf(lemmatizer, ArrayType(StringType()))"
   ]
  },
  {
   "cell_type": "code",
   "execution_count": 8,
   "metadata": {},
   "outputs": [
    {
     "name": "stdout",
     "output_type": "stream",
     "text": [
      "+--------+--------------------+--------------------+\n",
      "|      id|           sentences|          lemm_words|\n",
      "+--------+--------------------+--------------------+\n",
      "|28386116| we experimentall...|[we, experimental...|\n",
      "|28386116| to evaluate the ...|[to, evaluate, th...|\n",
      "|28386116|it has been well ...|[it, have, be, we...|\n",
      "|28386116| our bioinformati...|[our, bioinformat...|\n",
      "|28386116| it has been prev...|[it, have, be, pr...|\n",
      "|28386116| to assess to wha...|[to, assess, to, ...|\n",
      "|28386116| however, rnafold...|[however,, rnafol...|\n",
      "|28386116|a point mutation ...|[a, point, mutati...|\n",
      "|28386116| wild-type constr...|[wild-type, const...|\n",
      "|28386116| (b) cd spectra o...|[(b), cd, spectra...|\n",
      "|28386116| (c) cd melting c...|[(c), cd, melt, c...|\n",
      "|28386116| cd spectra of wi...|[cd, spectra, of,...|\n",
      "|28386116| cd melting at 26...|[cd, melt, at, 26...|\n",
      "|28386116|luciferase report...|[luciferase, repo...|\n",
      "|28386116| three constructs...|[three, construct...|\n",
      "|28386116| 3d), which suppo...|[3d),, which, sup...|\n",
      "|28386116| compared to the ...|[compare, to, the...|\n",
      "|28386116|although in silic...|[although, in, si...|\n",
      "|28386116| these observatio...|[these, observati...|\n",
      "|28386116|further character...|[further, charact...|\n",
      "+--------+--------------------+--------------------+\n",
      "only showing top 20 rows\n",
      "\n"
     ]
    }
   ],
   "source": [
    "bcl2_lemm = bcl2.select(bcl2.id, bcl2.sentences, lemmatizer_udf(bcl2.sentences).alias('lemm_words'))\n",
    "bcl2_lemm.show()"
   ]
  },
  {
   "cell_type": "markdown",
   "metadata": {
    "collapsed": true
   },
   "source": [
    "# bcl2 and gene regulation words"
   ]
  },
  {
   "cell_type": "markdown",
   "metadata": {},
   "source": [
    "* **We collect bcl2 regulation words and lemmatize all the words**"
   ]
  },
  {
   "cell_type": "code",
   "execution_count": 10,
   "metadata": {},
   "outputs": [],
   "source": [
    "import pandas as pd"
   ]
  },
  {
   "cell_type": "code",
   "execution_count": 17,
   "metadata": {},
   "outputs": [
    {
     "data": {
      "text/html": [
       "<div>\n",
       "<style scoped>\n",
       "    .dataframe tbody tr th:only-of-type {\n",
       "        vertical-align: middle;\n",
       "    }\n",
       "\n",
       "    .dataframe tbody tr th {\n",
       "        vertical-align: top;\n",
       "    }\n",
       "\n",
       "    .dataframe thead th {\n",
       "        text-align: right;\n",
       "    }\n",
       "</style>\n",
       "<table border=\"1\" class=\"dataframe\">\n",
       "  <thead>\n",
       "    <tr style=\"text-align: right;\">\n",
       "      <th></th>\n",
       "      <th>word</th>\n",
       "    </tr>\n",
       "  </thead>\n",
       "  <tbody>\n",
       "    <tr>\n",
       "      <th>0</th>\n",
       "      <td>activate</td>\n",
       "    </tr>\n",
       "    <tr>\n",
       "      <th>1</th>\n",
       "      <td>activation</td>\n",
       "    </tr>\n",
       "    <tr>\n",
       "      <th>2</th>\n",
       "      <td>activator</td>\n",
       "    </tr>\n",
       "    <tr>\n",
       "      <th>3</th>\n",
       "      <td>alter</td>\n",
       "    </tr>\n",
       "    <tr>\n",
       "      <th>4</th>\n",
       "      <td>antagonizing</td>\n",
       "    </tr>\n",
       "  </tbody>\n",
       "</table>\n",
       "</div>"
      ],
      "text/plain": [
       "           word\n",
       "0      activate\n",
       "1    activation\n",
       "2     activator\n",
       "3         alter\n",
       "4  antagonizing"
      ]
     },
     "execution_count": 17,
     "metadata": {},
     "output_type": "execute_result"
    }
   ],
   "source": [
    "gr_df = pd.read_csv('raw_data/bcl2_regulation.csv', names=['word'])\n",
    "gr_df.head()"
   ]
  },
  {
   "cell_type": "markdown",
   "metadata": {},
   "source": [
    "Lemmatize regulation words"
   ]
  },
  {
   "cell_type": "code",
   "execution_count": 19,
   "metadata": {},
   "outputs": [
    {
     "data": {
      "text/plain": [
       "['activate',\n",
       " 'activation',\n",
       " 'activator',\n",
       " 'alter',\n",
       " 'antagonize',\n",
       " 'anti-apoptotic',\n",
       " 'anti-death',\n",
       " 'antitumor',\n",
       " 'apoptosis',\n",
       " 'apoptosis']"
      ]
     },
     "execution_count": 19,
     "metadata": {},
     "output_type": "execute_result"
    }
   ],
   "source": [
    "gr_lemm_words = [wordnet_lemmatizer.lemmatize(w.lower(), 'v') for w in gr_df['word'] ]\n",
    "gr_lemm_words[:10]"
   ]
  },
  {
   "cell_type": "markdown",
   "metadata": {},
   "source": [
    "* **Filter sentences that has 'bcl2' and any gene regulation words**"
   ]
  },
  {
   "cell_type": "code",
   "execution_count": null,
   "metadata": {
    "collapsed": true
   },
   "outputs": [],
   "source": [
    "from pyspark.sql.functions import udf"
   ]
  },
  {
   "cell_type": "markdown",
   "metadata": {},
   "source": [
    "Define a `udf` function to to check if a row has 'bcl2'"
   ]
  },
  {
   "cell_type": "code",
   "execution_count": 21,
   "metadata": {},
   "outputs": [],
   "source": [
    "def filter_bcl2_regulation(l):\n",
    "    set0 = set(gr_lemm_words)\n",
    "    set1 = set(l)\n",
    "    common_words = list(set0.intersection(set1))\n",
    "    if len(common_words) > 0:\n",
    "        return(common_words)\n",
    "    else:\n",
    "        return(None)\n",
    "filter_bcl2_regulation_udf = udf(filter_bcl2_regulation, ArrayType(StringType()))"
   ]
  },
  {
   "cell_type": "code",
   "execution_count": 22,
   "metadata": {},
   "outputs": [],
   "source": [
    "bcl2_regulation_df = bcl2_lemm.select(bcl2_lemm.id, bcl2_lemm.sentences, bcl2_lemm.lemm_words, filter_bcl2_regulation_udf(bcl2_lemm.lemm_words).alias('bcl2_regulation'))"
   ]
  },
  {
   "cell_type": "code",
   "execution_count": 23,
   "metadata": {},
   "outputs": [],
   "source": [
    "bcl2_regulation_df = bcl2_regulation_df.filter(bcl2_regulation_df.bcl2_regulation.isNotNull() )"
   ]
  },
  {
   "cell_type": "code",
   "execution_count": 24,
   "metadata": {},
   "outputs": [
    {
     "name": "stdout",
     "output_type": "stream",
     "text": [
      "+--------+--------------------+--------------------+----------------+\n",
      "|      id|           sentences|          lemm_words| bcl2_regulation|\n",
      "+--------+--------------------+--------------------+----------------+\n",
      "|28386116|it has been well ...|[it, have, be, we...|[proto-oncogene]|\n",
      "|28386116| compared to the ...|[compare, to, the...|      [increase]|\n",
      "|28386116|bcl2 is a human p...|[bcl2, be, a, hum...|[proto-oncogene]|\n",
      "|28386116| many examples ex...|[many, examples, ...|       [elevate]|\n",
      "|28386116| several mechanis...|[several, mechani...|[overexpression]|\n",
      "+--------+--------------------+--------------------+----------------+\n",
      "only showing top 5 rows\n",
      "\n"
     ]
    }
   ],
   "source": [
    "bcl2_regulation_df.show(5)"
   ]
  },
  {
   "cell_type": "markdown",
   "metadata": {},
   "source": [
    "# bcl2, gene regulation words and bcl2 family genes"
   ]
  },
  {
   "cell_type": "markdown",
   "metadata": {},
   "source": [
    "* **Collect all bcl2 family genes and lemmatize all the words**"
   ]
  },
  {
   "cell_type": "code",
   "execution_count": 27,
   "metadata": {},
   "outputs": [
    {
     "data": {
      "text/plain": [
       "['a1',\n",
       " 'bad',\n",
       " 'bak',\n",
       " 'bax',\n",
       " 'bcl-2a1',\n",
       " 'bcl-b',\n",
       " 'bcl-w',\n",
       " 'bcl-xl',\n",
       " 'bcl-xs',\n",
       " 'bfl-1',\n",
       " 'bid',\n",
       " 'bik',\n",
       " 'bim',\n",
       " 'bmf',\n",
       " 'bok',\n",
       " 'ced-9',\n",
       " 'diva',\n",
       " 'egl-1',\n",
       " 'hrk',\n",
       " 'mcl-1',\n",
       " 'mcl1',\n",
       " 'noxa',\n",
       " 'puma']"
      ]
     },
     "execution_count": 27,
     "metadata": {},
     "output_type": "execute_result"
    }
   ],
   "source": [
    "# import collected family genes\n",
    "bcl2_family = pd.read_csv('raw_data/bcl2_family_genes.csv', names=['genes'])\n",
    "# lemmatize family genes\n",
    "bcl2_family_lemm = [wordnet_lemmatizer.lemmatize(w.lower(), 'v') for w in bcl2_family['genes'] ]\n",
    "bcl2_family_lemm"
   ]
  },
  {
   "cell_type": "markdown",
   "metadata": {},
   "source": [
    "* **Filter sentences that has bcl2 and bcl2 family genes from the previous filtering step. The final sentences should contain bcl2, at least one gene regulation word and at least one bcl2 family gene.**"
   ]
  },
  {
   "cell_type": "code",
   "execution_count": 28,
   "metadata": {},
   "outputs": [],
   "source": [
    "def filter_bcl2_family(l):\n",
    "    set0 = set(bcl2_family_lemm)\n",
    "    set1 = set(l)\n",
    "    common_words = list(set0.intersection(set1))\n",
    "    if len(common_words) > 0:\n",
    "        return(common_words)\n",
    "    else:\n",
    "        return(None)\n",
    "filter_bcl2_family_udf = udf(filter_bcl2_family, ArrayType(StringType()))"
   ]
  },
  {
   "cell_type": "code",
   "execution_count": 29,
   "metadata": {},
   "outputs": [],
   "source": [
    "# bcl2_family_df = bcl2_regulation_df.select(bcl2_regulation_df.id, bcl2_regulation_df.sentences, bcl2_regulation_df.bcl2_regulation, filter_bcl2_family_udf(bcl2_regulation_df.sentences).alias('bcl2_family'))\n",
    "bcl2_family_df = bcl2_regulation_df.select(bcl2_regulation_df.id, \n",
    "                                           bcl2_regulation_df.sentences, \n",
    "                                           bcl2_regulation_df.lemm_words, \n",
    "                                           bcl2_regulation_df.bcl2_regulation, \n",
    "                                           filter_bcl2_family_udf(bcl2_regulation_df.lemm_words).alias('bcl2_family'))"
   ]
  },
  {
   "cell_type": "code",
   "execution_count": 30,
   "metadata": {},
   "outputs": [],
   "source": [
    "bcl2_family_df = bcl2_family_df.filter(bcl2_family_df.bcl2_family.isNotNull())"
   ]
  },
  {
   "cell_type": "code",
   "execution_count": 31,
   "metadata": {},
   "outputs": [
    {
     "name": "stdout",
     "output_type": "stream",
     "text": [
      "+--------+--------------------+--------------------+--------------------+-----------+\n",
      "|      id|           sentences|          lemm_words|     bcl2_regulation|bcl2_family|\n",
      "+--------+--------------------+--------------------+--------------------+-----------+\n",
      "|28369145| albicans or go-p...|[albicans, or, go...|          [increase]|      [bax]|\n",
      "|28369145| (f) increased ra...|[(f), increase, r...|[activation, apop...|      [bax]|\n",
      "|28367088| the addition of ...|[the, addition, o...|  [reduce, increase]|      [bax]|\n",
      "|28350842| it was demonstra...|[it, be, demonstr...|[promote, anti-ap...|      [bax]|\n",
      "|28334048| also, there was ...|[also,, there, be...|[anti-apoptotic, ...|      [bax]|\n",
      "+--------+--------------------+--------------------+--------------------+-----------+\n",
      "only showing top 5 rows\n",
      "\n"
     ]
    }
   ],
   "source": [
    "bcl2_family_df.show(5)"
   ]
  },
  {
   "cell_type": "markdown",
   "metadata": {},
   "source": [
    "# Explode the data frame"
   ]
  },
  {
   "cell_type": "markdown",
   "metadata": {},
   "source": [
    "* **At this step, we explode the data frame so that each row should on single gene regulation word and one single bcl2 family gene.**"
   ]
  },
  {
   "cell_type": "markdown",
   "metadata": {},
   "source": [
    "## Explode by bcl2 family genes\n",
    "\n",
    "Each row may have more than one family genes. We want to spread them so that each row has only one familty genes."
   ]
  },
  {
   "cell_type": "code",
   "execution_count": 36,
   "metadata": {},
   "outputs": [
    {
     "name": "stdout",
     "output_type": "stream",
     "text": [
      "+--------+--------------------+--------------------+--------------------+-----------+\n",
      "|      id|           sentences|          lemm_words|     bcl2_regulation|bcl2_family|\n",
      "+--------+--------------------+--------------------+--------------------+-----------+\n",
      "|28369145| albicans or go-p...|[albicans, or, go...|          [increase]|        bax|\n",
      "|28369145| (f) increased ra...|[(f), increase, r...|[activation, apop...|        bax|\n",
      "|28367088| the addition of ...|[the, addition, o...|  [reduce, increase]|        bax|\n",
      "|28350842| it was demonstra...|[it, be, demonstr...|[promote, anti-ap...|        bax|\n",
      "|28334048| also, there was ...|[also,, there, be...|[anti-apoptotic, ...|        bax|\n",
      "+--------+--------------------+--------------------+--------------------+-----------+\n",
      "only showing top 5 rows\n",
      "\n"
     ]
    }
   ],
   "source": [
    "from pyspark.sql.functions import explode\n",
    "bcl2_family_explode = bcl2_family_df.select(bcl2_family_df.id, \n",
    "                                            bcl2_family_df.sentences,\n",
    "                                            bcl2_family_df.lemm_words,\n",
    "                                            bcl2_family_df.bcl2_regulation,\n",
    "                                            explode(bcl2_family_df.bcl2_family).alias('bcl2_family'))\n",
    "bcl2_family_explode.show(5)"
   ]
  },
  {
   "cell_type": "markdown",
   "metadata": {},
   "source": [
    "## Explode by bcl2 regulation vocabulary"
   ]
  },
  {
   "cell_type": "code",
   "execution_count": 37,
   "metadata": {},
   "outputs": [
    {
     "name": "stdout",
     "output_type": "stream",
     "text": [
      "+--------+--------------------+--------------------+---------------+-----------+\n",
      "|      id|           sentences|          lemm_words|bcl2_regulation|bcl2_family|\n",
      "+--------+--------------------+--------------------+---------------+-----------+\n",
      "|28369145| albicans or go-p...|[albicans, or, go...|       increase|        bax|\n",
      "|28369145| (f) increased ra...|[(f), increase, r...|     activation|        bax|\n",
      "|28369145| (f) increased ra...|[(f), increase, r...|      apoptosis|        bax|\n",
      "|28369145| (f) increased ra...|[(f), increase, r...|       increase|        bax|\n",
      "|28367088| the addition of ...|[the, addition, o...|         reduce|        bax|\n",
      "+--------+--------------------+--------------------+---------------+-----------+\n",
      "only showing top 5 rows\n",
      "\n"
     ]
    }
   ],
   "source": [
    "bcl2_regulation_explode = bcl2_family_explode.select(bcl2_family_explode.id,\n",
    "                                                     bcl2_family_explode.sentences,\n",
    "                                                     bcl2_family_explode.lemm_words,\n",
    "                                                     explode(bcl2_family_explode.bcl2_regulation).alias('bcl2_regulation'),\n",
    "                                                     bcl2_family_explode.bcl2_family)\n",
    "bcl2_regulation_explode.show(5)"
   ]
  },
  {
   "cell_type": "markdown",
   "metadata": {},
   "source": [
    "# Concatenate regulation and gene columns"
   ]
  },
  {
   "cell_type": "code",
   "execution_count": 38,
   "metadata": {},
   "outputs": [],
   "source": [
    "from pyspark.sql.functions import concat, concat_ws\n",
    "bcl2_final_df = bcl2_regulation_explode.select(bcl2_regulation_explode.id,  \n",
    "                                               concat_ws('_', bcl2_regulation_explode.bcl2_regulation, bcl2_regulation_explode.bcl2_family).alias('bcl2_regulates_family'),\n",
    "                                               bcl2_regulation_explode.sentences)"
   ]
  },
  {
   "cell_type": "code",
   "execution_count": 41,
   "metadata": {},
   "outputs": [
    {
     "name": "stdout",
     "output_type": "stream",
     "text": [
      "+--------+---------------------+--------------------+\n",
      "|      id|bcl2_regulates_family|           sentences|\n",
      "+--------+---------------------+--------------------+\n",
      "|28369145|         increase_bax| albicans or go-p...|\n",
      "|28369145|       activation_bax| (f) increased ra...|\n",
      "|28369145|        apoptosis_bax| (f) increased ra...|\n",
      "|28369145|         increase_bax| (f) increased ra...|\n",
      "|28367088|           reduce_bax| the addition of ...|\n",
      "|28367088|         increase_bax| the addition of ...|\n",
      "|28350842|          promote_bax| it was demonstra...|\n",
      "|28350842|   anti-apoptotic_bax| it was demonstra...|\n",
      "|28350842|          inhibit_bax| it was demonstra...|\n",
      "|28350842|     upregulation_bax| it was demonstra...|\n",
      "|28334048|   anti-apoptotic_bax| also, there was ...|\n",
      "|28334048|    pro-apoptotic_bax| also, there was ...|\n",
      "|28334048|         increase_bax| also, there was ...|\n",
      "|28157696|            alter_bax|tramp cells expos...|\n",
      "|28105423|           reduce_bax|seminal mirna-122...|\n",
      "|28105423|         increase_bax|seminal mirna-122...|\n",
      "|28076382|   anti-apoptotic_bax|g004to assess whe...|\n",
      "|28076382|    pro-apoptotic_bax|g004to assess whe...|\n",
      "|28076382|        apoptosis_bax|g004to assess whe...|\n",
      "|28076382|        associate_bax|g004to assess whe...|\n",
      "|28073348|        apoptosis_bax| bcl2 protein is ...|\n",
      "|28073348|          inhibit_bax| bcl2 protein is ...|\n",
      "|28073348|          prevent_bax| bcl2 protein is ...|\n",
      "|28057912|          inhibit_bax| apoptosis-relate...|\n",
      "|28056107|   anti-apoptotic_bax| it has recently ...|\n",
      "|28056107|    pro-apoptotic_bax| it has recently ...|\n",
      "|28056107|          mediate_bax| it has recently ...|\n",
      "|28056107|       inhibition_bax| it has recently ...|\n",
      "|28056107|      antagonize_mcl1| parkin-dependent...|\n",
      "|28049506|           induce_bax| 3c also (i) incr...|\n",
      "|28049506|         increase_bax| 3c also (i) incr...|\n",
      "|28049506|       suppressor_bax| tumor suppressor...|\n",
      "|28049506|        regulator_bax| tumor suppressor...|\n",
      "|28049506|   downregulation_bax| p53 may be invol...|\n",
      "|28049506|         increase_bax| 3c was found to ...|\n",
      "|28046000|    pro-apoptotic_bax| meanwhile, apopt...|\n",
      "|28018211|         suppress_bax| it also increase...|\n",
      "|28018211|         increase_bax| it also increase...|\n",
      "|28018211|         increase_bax| tubulosa treatme...|\n",
      "|28018211|           reduce_bax|bcl2 protein expr...|\n",
      "|28018211|          enhance_bax|bcl2 protein expr...|\n",
      "|28018211|           reduce_bax| tubulosa treatme...|\n",
      "|28018211|         increase_bax| tubulosa treatme...|\n",
      "|28018211|           reduce_bax| tubulosa treatme...|\n",
      "|28013315|        apoptosis_bax| mouse sepsis mod...|\n",
      "|28013315|          promote_bax| it inhibited bax...|\n",
      "|28013315|        apoptosis_bax| it inhibited bax...|\n",
      "|28013315|          inhibit_bax| it inhibited bax...|\n",
      "|27990281|   anti-apoptotic_bak|bh3 mimetics are ...|\n",
      "|27990281|          inhibit_bak|bh3 mimetics are ...|\n",
      "|27990281|   anti-apoptotic_bax|bh3 mimetics are ...|\n",
      "|27990281|          inhibit_bax|bh3 mimetics are ...|\n",
      "|27990281|        apoptosis_bak| and the bh3-only...|\n",
      "|27990281|           induce_bak| and the bh3-only...|\n",
      "|27990281|        apoptosis_bax| and the bh3-only...|\n",
      "|27990281|           induce_bax| and the bh3-only...|\n",
      "|27990281|   anti-apoptotic_bak| the indirect act...|\n",
      "|27990281|       activation_bak| the indirect act...|\n",
      "|27990281|         activate_bak| the indirect act...|\n",
      "|27990281|   anti-apoptotic_bax| the indirect act...|\n",
      "|27990281|       activation_bax| the indirect act...|\n",
      "|27990281|         activate_bax| the indirect act...|\n",
      "|27990281|          inhibit_bak| in this model, b...|\n",
      "|27990281|           signal_bak| in this model, b...|\n",
      "|27990281|         activate_bak| in this model, b...|\n",
      "|27990281|   anti-apoptotic_bak| in this model, b...|\n",
      "|27990281|           induce_bak| in this model, b...|\n",
      "|27990281|            death_bak| in this model, b...|\n",
      "|27990281|          inhibit_bax| in this model, b...|\n",
      "|27990281|           signal_bax| in this model, b...|\n",
      "|27990281|         activate_bax| in this model, b...|\n",
      "|27990281|   anti-apoptotic_bax| in this model, b...|\n",
      "|27990281|           induce_bax| in this model, b...|\n",
      "|27990281|            death_bax| in this model, b...|\n",
      "|27990281|   anti-apoptotic_bax| finally, the uni...|\n",
      "|27990281|          inhibit_bax| finally, the uni...|\n",
      "|27990281|         activate_bax| finally, the uni...|\n",
      "|27990281|       activation_bak| instead, binding...|\n",
      "|27990281|            death_bak| instead, binding...|\n",
      "|27990281|             bind_bak| instead, binding...|\n",
      "|27990281|   anti-apoptotic_bak| instead, binding...|\n",
      "|27990281|       activation_bax| instead, binding...|\n",
      "|27990281|            death_bax| instead, binding...|\n",
      "|27990281|             bind_bax| instead, binding...|\n",
      "|27990281|   anti-apoptotic_bax| instead, binding...|\n",
      "|27990281|   anti-apoptotic_bax|in model 1 (left)...|\n",
      "|27990281|         activate_bax|in model 1 (left)...|\n",
      "|27990281|   anti-apoptotic_bim|in model 1 (left)...|\n",
      "|27990281|         activate_bim|in model 1 (left)...|\n",
      "|27990281|   anti-apoptotic_bak| in model 2 (righ...|\n",
      "|27990281|         activate_bak| in model 2 (righ...|\n",
      "|27990281|   anti-apoptotic_bax| in model 2 (righ...|\n",
      "|27990281|         activate_bax| in model 2 (righ...|\n",
      "|27990281|   anti-apoptotic_bak| to the extent th...|\n",
      "|27990281|       activation_bak| to the extent th...|\n",
      "|27990281|         activate_bak| to the extent th...|\n",
      "|27990281|   anti-apoptotic_bax| to the extent th...|\n",
      "|27990281|       activation_bax| to the extent th...|\n",
      "|27990281|         activate_bax| to the extent th...|\n",
      "|27990281|   anti-apoptotic_bak| based on these o...|\n",
      "+--------+---------------------+--------------------+\n",
      "only showing top 100 rows\n",
      "\n"
     ]
    }
   ],
   "source": [
    "bcl2_final_df.show(n=)"
   ]
  },
  {
   "cell_type": "code",
   "execution_count": null,
   "metadata": {},
   "outputs": [],
   "source": []
  },
  {
   "cell_type": "markdown",
   "metadata": {},
   "source": [
    "# Save results into csv file"
   ]
  },
  {
   "cell_type": "code",
   "execution_count": null,
   "metadata": {},
   "outputs": [],
   "source": [
    "bcl2_final_df.orderBy('bcl2_regulates_family')\\\n",
    "    .coalesce(1)\\\n",
    "    .write.format(\"com.databricks.spark.csv\")\\\n",
    "    .option(\"header\", \"true\")\\\n",
    "    .save(\"bcl2_final_results\")"
   ]
  }
 ],
 "metadata": {
  "anaconda-cloud": {},
  "kernelspec": {
   "display_name": "Python 3",
   "language": "python",
   "name": "python3"
  },
  "language_info": {
   "codemirror_mode": {
    "name": "ipython",
    "version": 3
   },
   "file_extension": ".py",
   "mimetype": "text/x-python",
   "name": "python",
   "nbconvert_exporter": "python",
   "pygments_lexer": "ipython3",
   "version": "3.6.5"
  }
 },
 "nbformat": 4,
 "nbformat_minor": 2
}
